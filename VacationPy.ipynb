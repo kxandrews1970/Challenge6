{
 "cells": [
  {
   "cell_type": "markdown",
   "metadata": {},
   "source": [
    "# VacationPy\n",
    "---\n",
    "\n",
    "## Starter Code to Import Libraries and Load the Weather and Coordinates Data"
   ]
  },
  {
   "cell_type": "code",
   "execution_count": 58,
   "metadata": {},
   "outputs": [],
   "source": [
    "# Dependencies and Setup\n",
    "import hvplot.pandas\n",
    "import pandas as pd\n",
    "import requests\n",
    "import geoviews as gv # noqa\n",
    "import json\n",
    "\n",
    "# Import API key\n",
    "from api_keys import geoapify_key"
   ]
  },
  {
   "cell_type": "code",
   "execution_count": 59,
   "metadata": {},
   "outputs": [
    {
     "data": {
      "text/html": [
       "<div>\n",
       "<style scoped>\n",
       "    .dataframe tbody tr th:only-of-type {\n",
       "        vertical-align: middle;\n",
       "    }\n",
       "\n",
       "    .dataframe tbody tr th {\n",
       "        vertical-align: top;\n",
       "    }\n",
       "\n",
       "    .dataframe thead th {\n",
       "        text-align: right;\n",
       "    }\n",
       "</style>\n",
       "<table border=\"1\" class=\"dataframe\">\n",
       "  <thead>\n",
       "    <tr style=\"text-align: right;\">\n",
       "      <th></th>\n",
       "      <th>Unnamed: 0</th>\n",
       "      <th>City</th>\n",
       "      <th>Lat</th>\n",
       "      <th>Lng</th>\n",
       "      <th>Max Temp</th>\n",
       "      <th>Humidity</th>\n",
       "      <th>Cloudiness</th>\n",
       "      <th>Wind Speed</th>\n",
       "      <th>Country</th>\n",
       "      <th>Date</th>\n",
       "    </tr>\n",
       "  </thead>\n",
       "  <tbody>\n",
       "    <tr>\n",
       "      <th>0</th>\n",
       "      <td>0</td>\n",
       "      <td>Pathein</td>\n",
       "      <td>16.7833</td>\n",
       "      <td>94.7333</td>\n",
       "      <td>74.39</td>\n",
       "      <td>82</td>\n",
       "      <td>6</td>\n",
       "      <td>5.86</td>\n",
       "      <td>MM</td>\n",
       "      <td>1702258167</td>\n",
       "    </tr>\n",
       "    <tr>\n",
       "      <th>1</th>\n",
       "      <td>1</td>\n",
       "      <td>Ilulissat</td>\n",
       "      <td>69.2167</td>\n",
       "      <td>-51.1000</td>\n",
       "      <td>28.42</td>\n",
       "      <td>74</td>\n",
       "      <td>100</td>\n",
       "      <td>12.66</td>\n",
       "      <td>GL</td>\n",
       "      <td>1702258167</td>\n",
       "    </tr>\n",
       "    <tr>\n",
       "      <th>2</th>\n",
       "      <td>2</td>\n",
       "      <td>Port-aux-Français</td>\n",
       "      <td>-49.3500</td>\n",
       "      <td>70.2167</td>\n",
       "      <td>39.22</td>\n",
       "      <td>79</td>\n",
       "      <td>74</td>\n",
       "      <td>21.18</td>\n",
       "      <td>TF</td>\n",
       "      <td>1702258167</td>\n",
       "    </tr>\n",
       "    <tr>\n",
       "      <th>3</th>\n",
       "      <td>3</td>\n",
       "      <td>Naryan-Mar</td>\n",
       "      <td>67.6713</td>\n",
       "      <td>53.0870</td>\n",
       "      <td>-8.90</td>\n",
       "      <td>91</td>\n",
       "      <td>100</td>\n",
       "      <td>11.01</td>\n",
       "      <td>RU</td>\n",
       "      <td>1702258095</td>\n",
       "    </tr>\n",
       "    <tr>\n",
       "      <th>4</th>\n",
       "      <td>4</td>\n",
       "      <td>Longyearbyen</td>\n",
       "      <td>78.2186</td>\n",
       "      <td>15.6401</td>\n",
       "      <td>31.84</td>\n",
       "      <td>74</td>\n",
       "      <td>75</td>\n",
       "      <td>12.66</td>\n",
       "      <td>SJ</td>\n",
       "      <td>1702258055</td>\n",
       "    </tr>\n",
       "  </tbody>\n",
       "</table>\n",
       "</div>"
      ],
      "text/plain": [
       "   Unnamed: 0               City      Lat      Lng  Max Temp  Humidity  \\\n",
       "0           0            Pathein  16.7833  94.7333     74.39        82   \n",
       "1           1          Ilulissat  69.2167 -51.1000     28.42        74   \n",
       "2           2  Port-aux-Français -49.3500  70.2167     39.22        79   \n",
       "3           3         Naryan-Mar  67.6713  53.0870     -8.90        91   \n",
       "4           4       Longyearbyen  78.2186  15.6401     31.84        74   \n",
       "\n",
       "   Cloudiness  Wind Speed Country        Date  \n",
       "0           6        5.86      MM  1702258167  \n",
       "1         100       12.66      GL  1702258167  \n",
       "2          74       21.18      TF  1702258167  \n",
       "3         100       11.01      RU  1702258095  \n",
       "4          75       12.66      SJ  1702258055  "
      ]
     },
     "execution_count": 59,
     "metadata": {},
     "output_type": "execute_result"
    }
   ],
   "source": [
    "# Load the CSV file created in Part 1 into a Pandas DataFrame\n",
    "city_data_df = pd.read_csv(\"../cities1.csv\")\n",
    "\n",
    "# Display sample data\n",
    "city_data_df.head()"
   ]
  },
  {
   "cell_type": "markdown",
   "metadata": {},
   "source": [
    "---\n",
    "\n",
    "### Step 1: Create a map that displays a point for every city in the `city_data_df` DataFrame. The size of the point should be the humidity in each city."
   ]
  },
  {
   "cell_type": "code",
   "execution_count": 60,
   "metadata": {},
   "outputs": [
    {
     "data": {},
     "metadata": {},
     "output_type": "display_data"
    },
    {
     "data": {
      "application/vnd.holoviews_exec.v0+json": "",
      "text/html": [
       "<div id='p1346'>\n",
       "  <div id=\"d58a84dd-c635-4b44-8596-1e90cea30b61\" data-root-id=\"p1346\" style=\"display: contents;\"></div>\n",
       "</div>\n",
       "<script type=\"application/javascript\">(function(root) {\n",
       "  var docs_json = {\"5b2b1e0b-fe83-4e57-9b1b-4293db0b45a5\":{\"version\":\"3.1.1\",\"title\":\"Bokeh Application\",\"defs\":[{\"type\":\"model\",\"name\":\"ReactiveHTML1\"},{\"type\":\"model\",\"name\":\"FlexBox1\",\"properties\":[{\"name\":\"align_content\",\"kind\":\"Any\",\"default\":\"flex-start\"},{\"name\":\"align_items\",\"kind\":\"Any\",\"default\":\"flex-start\"},{\"name\":\"flex_direction\",\"kind\":\"Any\",\"default\":\"row\"},{\"name\":\"flex_wrap\",\"kind\":\"Any\",\"default\":\"wrap\"},{\"name\":\"justify_content\",\"kind\":\"Any\",\"default\":\"flex-start\"}]},{\"type\":\"model\",\"name\":\"FloatPanel1\",\"properties\":[{\"name\":\"config\",\"kind\":\"Any\",\"default\":{\"type\":\"map\"}},{\"name\":\"contained\",\"kind\":\"Any\",\"default\":true},{\"name\":\"position\",\"kind\":\"Any\",\"default\":\"right-top\"},{\"name\":\"offsetx\",\"kind\":\"Any\",\"default\":null},{\"name\":\"offsety\",\"kind\":\"Any\",\"default\":null},{\"name\":\"theme\",\"kind\":\"Any\",\"default\":\"primary\"},{\"name\":\"status\",\"kind\":\"Any\",\"default\":\"normalized\"}]},{\"type\":\"model\",\"name\":\"GridStack1\",\"properties\":[{\"name\":\"mode\",\"kind\":\"Any\",\"default\":\"warn\"},{\"name\":\"ncols\",\"kind\":\"Any\",\"default\":null},{\"name\":\"nrows\",\"kind\":\"Any\",\"default\":null},{\"name\":\"allow_resize\",\"kind\":\"Any\",\"default\":true},{\"name\":\"allow_drag\",\"kind\":\"Any\",\"default\":true},{\"name\":\"state\",\"kind\":\"Any\",\"default\":[]}]},{\"type\":\"model\",\"name\":\"drag1\",\"properties\":[{\"name\":\"slider_width\",\"kind\":\"Any\",\"default\":5},{\"name\":\"slider_color\",\"kind\":\"Any\",\"default\":\"black\"},{\"name\":\"value\",\"kind\":\"Any\",\"default\":50}]},{\"type\":\"model\",\"name\":\"click1\",\"properties\":[{\"name\":\"terminal_output\",\"kind\":\"Any\",\"default\":\"\"},{\"name\":\"debug_name\",\"kind\":\"Any\",\"default\":\"\"},{\"name\":\"clears\",\"kind\":\"Any\",\"default\":0}]},{\"type\":\"model\",\"name\":\"FastWrapper1\",\"properties\":[{\"name\":\"object\",\"kind\":\"Any\",\"default\":null},{\"name\":\"style\",\"kind\":\"Any\",\"default\":null}]},{\"type\":\"model\",\"name\":\"NotificationAreaBase1\",\"properties\":[{\"name\":\"position\",\"kind\":\"Any\",\"default\":\"bottom-right\"},{\"name\":\"_clear\",\"kind\":\"Any\",\"default\":0}]},{\"type\":\"model\",\"name\":\"NotificationArea1\",\"properties\":[{\"name\":\"notifications\",\"kind\":\"Any\",\"default\":[]},{\"name\":\"position\",\"kind\":\"Any\",\"default\":\"bottom-right\"},{\"name\":\"_clear\",\"kind\":\"Any\",\"default\":0},{\"name\":\"types\",\"kind\":\"Any\",\"default\":[{\"type\":\"map\",\"entries\":[[\"type\",\"warning\"],[\"background\",\"#ffc107\"],[\"icon\",{\"type\":\"map\",\"entries\":[[\"className\",\"fas fa-exclamation-triangle\"],[\"tagName\",\"i\"],[\"color\",\"white\"]]}]]},{\"type\":\"map\",\"entries\":[[\"type\",\"info\"],[\"background\",\"#007bff\"],[\"icon\",{\"type\":\"map\",\"entries\":[[\"className\",\"fas fa-info-circle\"],[\"tagName\",\"i\"],[\"color\",\"white\"]]}]]}]}]},{\"type\":\"model\",\"name\":\"Notification\",\"properties\":[{\"name\":\"background\",\"kind\":\"Any\",\"default\":null},{\"name\":\"duration\",\"kind\":\"Any\",\"default\":3000},{\"name\":\"icon\",\"kind\":\"Any\",\"default\":null},{\"name\":\"message\",\"kind\":\"Any\",\"default\":\"\"},{\"name\":\"notification_type\",\"kind\":\"Any\",\"default\":null},{\"name\":\"_destroyed\",\"kind\":\"Any\",\"default\":false}]},{\"type\":\"model\",\"name\":\"TemplateActions1\",\"properties\":[{\"name\":\"open_modal\",\"kind\":\"Any\",\"default\":0},{\"name\":\"close_modal\",\"kind\":\"Any\",\"default\":0}]},{\"type\":\"model\",\"name\":\"BootstrapTemplateActions1\",\"properties\":[{\"name\":\"open_modal\",\"kind\":\"Any\",\"default\":0},{\"name\":\"close_modal\",\"kind\":\"Any\",\"default\":0}]},{\"type\":\"model\",\"name\":\"MaterialTemplateActions1\",\"properties\":[{\"name\":\"open_modal\",\"kind\":\"Any\",\"default\":0},{\"name\":\"close_modal\",\"kind\":\"Any\",\"default\":0}]}],\"roots\":[{\"type\":\"object\",\"name\":\"Row\",\"id\":\"p1346\",\"attributes\":{\"name\":\"Row01880\",\"tags\":[\"embedded\"],\"stylesheets\":[\"\\n:host(.pn-loading.pn-arc):before, .pn-loading.pn-arc:before {\\n  background-image: url(\\\"data:image/svg+xml;base64,PHN2ZyB4bWxucz0iaHR0cDovL3d3dy53My5vcmcvMjAwMC9zdmciIHN0eWxlPSJtYXJnaW46IGF1dG87IGJhY2tncm91bmQ6IG5vbmU7IGRpc3BsYXk6IGJsb2NrOyBzaGFwZS1yZW5kZXJpbmc6IGF1dG87IiB2aWV3Qm94PSIwIDAgMTAwIDEwMCIgcHJlc2VydmVBc3BlY3RSYXRpbz0ieE1pZFlNaWQiPiAgPGNpcmNsZSBjeD0iNTAiIGN5PSI1MCIgZmlsbD0ibm9uZSIgc3Ryb2tlPSIjYzNjM2MzIiBzdHJva2Utd2lkdGg9IjEwIiByPSIzNSIgc3Ryb2tlLWRhc2hhcnJheT0iMTY0LjkzMzYxNDMxMzQ2NDE1IDU2Ljk3Nzg3MTQzNzgyMTM4Ij4gICAgPGFuaW1hdGVUcmFuc2Zvcm0gYXR0cmlidXRlTmFtZT0idHJhbnNmb3JtIiB0eXBlPSJyb3RhdGUiIHJlcGVhdENvdW50PSJpbmRlZmluaXRlIiBkdXI9IjFzIiB2YWx1ZXM9IjAgNTAgNTA7MzYwIDUwIDUwIiBrZXlUaW1lcz0iMDsxIj48L2FuaW1hdGVUcmFuc2Zvcm0+ICA8L2NpcmNsZT48L3N2Zz4=\\\");\\n  background-size: auto calc(min(50%, 400px));\\n}\",{\"type\":\"object\",\"name\":\"ImportedStyleSheet\",\"id\":\"p1349\",\"attributes\":{\"url\":\"https://cdn.holoviz.org/panel/1.1.0/dist/css/loading.css\"}},{\"type\":\"object\",\"name\":\"ImportedStyleSheet\",\"id\":\"p1481\",\"attributes\":{\"url\":\"https://cdn.holoviz.org/panel/1.1.0/dist/css/listpanel.css\"}},{\"type\":\"object\",\"name\":\"ImportedStyleSheet\",\"id\":\"p1347\",\"attributes\":{\"url\":\"https://cdn.holoviz.org/panel/1.1.0/dist/bundled/theme/default.css\"}},{\"type\":\"object\",\"name\":\"ImportedStyleSheet\",\"id\":\"p1348\",\"attributes\":{\"url\":\"https://cdn.holoviz.org/panel/1.1.0/dist/bundled/theme/native.css\"}}],\"margin\":0,\"sizing_mode\":\"stretch_width\",\"align\":\"start\",\"children\":[{\"type\":\"object\",\"name\":\"Spacer\",\"id\":\"p1350\",\"attributes\":{\"name\":\"HSpacer01890\",\"stylesheets\":[\"\\n:host(.pn-loading.pn-arc):before, .pn-loading.pn-arc:before {\\n  background-image: url(\\\"data:image/svg+xml;base64,PHN2ZyB4bWxucz0iaHR0cDovL3d3dy53My5vcmcvMjAwMC9zdmciIHN0eWxlPSJtYXJnaW46IGF1dG87IGJhY2tncm91bmQ6IG5vbmU7IGRpc3BsYXk6IGJsb2NrOyBzaGFwZS1yZW5kZXJpbmc6IGF1dG87IiB2aWV3Qm94PSIwIDAgMTAwIDEwMCIgcHJlc2VydmVBc3BlY3RSYXRpbz0ieE1pZFlNaWQiPiAgPGNpcmNsZSBjeD0iNTAiIGN5PSI1MCIgZmlsbD0ibm9uZSIgc3Ryb2tlPSIjYzNjM2MzIiBzdHJva2Utd2lkdGg9IjEwIiByPSIzNSIgc3Ryb2tlLWRhc2hhcnJheT0iMTY0LjkzMzYxNDMxMzQ2NDE1IDU2Ljk3Nzg3MTQzNzgyMTM4Ij4gICAgPGFuaW1hdGVUcmFuc2Zvcm0gYXR0cmlidXRlTmFtZT0idHJhbnNmb3JtIiB0eXBlPSJyb3RhdGUiIHJlcGVhdENvdW50PSJpbmRlZmluaXRlIiBkdXI9IjFzIiB2YWx1ZXM9IjAgNTAgNTA7MzYwIDUwIDUwIiBrZXlUaW1lcz0iMDsxIj48L2FuaW1hdGVUcmFuc2Zvcm0+ICA8L2NpcmNsZT48L3N2Zz4=\\\");\\n  background-size: auto calc(min(50%, 400px));\\n}\",{\"id\":\"p1349\"},{\"id\":\"p1347\"},{\"id\":\"p1348\"}],\"margin\":0,\"sizing_mode\":\"stretch_width\",\"align\":\"start\"}},{\"type\":\"object\",\"name\":\"Figure\",\"id\":\"p1371\",\"attributes\":{\"width\":null,\"height\":null,\"margin\":[5,10],\"sizing_mode\":\"fixed\",\"align\":\"start\",\"x_range\":{\"type\":\"object\",\"name\":\"Range1d\",\"id\":\"p1360\",\"attributes\":{\"tags\":[[[\"Longitude\",\"Longitude\",null]]],\"start\":-22289105.96011788,\"end\":22498586.97789266,\"reset_start\":-22289105.96011788,\"reset_end\":22498586.97789266,\"min_interval\":5}},\"y_range\":{\"type\":\"object\",\"name\":\"Range1d\",\"id\":\"p1361\",\"attributes\":{\"tags\":[[[\"Latitude\",\"Latitude\",null]]],\"start\":-11347409.459739113,\"end\":18511052.498934582,\"reset_start\":-11347409.459739113,\"reset_end\":18511052.498934582,\"min_interval\":5}},\"x_scale\":{\"type\":\"object\",\"name\":\"LinearScale\",\"id\":\"p1383\"},\"y_scale\":{\"type\":\"object\",\"name\":\"LinearScale\",\"id\":\"p1385\"},\"title\":{\"type\":\"object\",\"name\":\"Title\",\"id\":\"p1374\",\"attributes\":{\"text_color\":\"black\",\"text_font_size\":\"12pt\"}},\"renderers\":[{\"type\":\"object\",\"name\":\"TileRenderer\",\"id\":\"p1440\",\"attributes\":{\"level\":\"underlay\",\"tile_source\":{\"type\":\"object\",\"name\":\"WMTSTileSource\",\"id\":\"p1435\",\"attributes\":{\"url\":\"https://c.tile.openstreetmap.org/{Z}/{X}/{Y}.png\",\"attribution\":\"&copy; <a href=\\\"https://www.openstreetmap.org/copyright\\\">OpenStreetMap</a> contributors\"}}}},{\"type\":\"object\",\"name\":\"GlyphRenderer\",\"id\":\"p1460\",\"attributes\":{\"data_source\":{\"type\":\"object\",\"name\":\"ColumnDataSource\",\"id\":\"p1448\",\"attributes\":{\"selected\":{\"type\":\"object\",\"name\":\"Selection\",\"id\":\"p1449\",\"attributes\":{\"indices\":[],\"line_indices\":[]}},\"selection_policy\":{\"type\":\"object\",\"name\":\"UnionRenderers\",\"id\":\"p1450\"},\"data\":{\"type\":\"map\",\"entries\":[[\"Lng\",{\"type\":\"ndarray\",\"array\":{\"type\":\"bytes\",\"data\":\"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\"},\"shape\":[552],\"dtype\":\"float64\",\"order\":\"little\"}],[\"Lat\",{\"type\":\"ndarray\",\"array\":{\"type\":\"bytes\",\"data\":\"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\"},\"shape\":[552],\"dtype\":\"float64\",\"order\":\"little\"}],[\"City\",{\"type\":\"ndarray\",\"array\":[\"Pathein\",\"Ilulissat\",\"Port-aux-Fran\\u00e7ais\",\"Naryan-Mar\",\"Longyearbyen\",\"Blackmans Bay\",\"Adamstown\",\"Cabo San Lucas\",\"Moose Jaw\",\"Barreirinhas\",\"Atafu Village\",\"Hawaiian Paradise Park\",\"Waitangi\",\"Bilibino\",\"Flying Fish Cove\",\"Port Lincoln\",\"Thunder Bay\",\"El Abiodh Sidi Cheikh\",\"Port Elizabeth\",\"Weno\",\"West Island\",\"Reinosa\",\"College\",\"Afaahiti\",\"Puerto Natales\",\"Iqaluit\",\"Grytviken\",\"Queensbury\",\"L\\u00e1zaro C\\u00e1rdenas\",\"Avarua\",\"Kharan\",\"Bethel\",\"Albany\",\"Punta Arenas\",\"Puerto Ayora\",\"Solwezi\",\"Gadzhiyevo\",\"Stanley\",\"Nd\\u00e9l\\u00e9\",\"Nagqu Prefecture\",\"Carnarvon\",\"Zhicheng\",\"Carutapera\",\"Anadyr\",\"Nampula\",\"Lakhipur\",\"Bredasdorp\",\"Barcelos\",\"Boa Vista\",\"Rosarito\",\"Cabedelo\",\"Brigantine\",\"Eureka\",\"Tut\\u00f3ia\",\"Edinburgh of the Seven Seas\",\"Margaret River\",\"North Bend\",\"Tiksi\",\"Chonchi\",\"Papatowai\",\"Gewan\\u0113\",\"Saipan\",\"Kitwe\",\"Whitehorse\",\"Thompson\",\"Ust-Nera\",\"Amahai\",\"Saint-Philippe\",\"Nova Sintra\",\"Opuwo\",\"Porto Cristo\",\"Kirakira\",\"Callao\",\"Hammerfest\",\"Thurso\",\"Olonkinbyen\",\"Kerben\",\"Lihue\",\"Yellowknife\",\"Vila Franca do Campo\",\"Hermanus\",\"Yeni\\u015farbademli\",\"Isafjordur\",\"Umm Kaddadah\",\"Myingyan\",\"Kongsvinger\",\"Tamanghasset\",\"Kovalam\",\"Suva\",\"Caleta de Carqu\\u00edn\",\"Porto Franco\",\"Masterton\",\"Peace River\",\"Uyar\",\"Constan\\u021ba\",\"Bubaque\",\"Tyumen\",\"Puerto Ais\\u00e9n\",\"Mount Isa\",\"S\\u012bwah\",\"La Ronge\",\"Ribeira Grande\",\"Juli\",\"Rundu\",\"Castillos\",\"San Patricio\",\"Ushuaia\",\"Hithadhoo\",\"Novodvinsk\",\"El Granada\",\"Great Falls\",\"Qandala\",\"Mahina\",\"Gedaref\",\"Rio Grande\",\"Portland\",\"Obo\",\"Emerald\",\"Urangan\",\"Porto Belo\",\"Sumbawanga\",\"Invercargill\",\"Labrador City\",\"S\\u00e3o Gabriel da Cachoeira\",\"Udachny\",\"Tungip\\u0101ra\",\"Vorkuta\",\"Longboat Key\",\"Vorgashor\",\"Port Augusta\",\"Port Mathurin\",\"Caman\\u00e1\",\"Laojunmiao\",\"Klaksv\\u00edk\",\"Fale old settlement\",\"Enewetak\",\"Saldanha\",\"Calama\",\"Port Alfred\",\"Sitka\",\"Hamilton\",\"Saint Paul Harbor\",\"Angoche\",\"Tazacorte\",\"Chehalis\",\"Kulhudhuffushi\",\"Kolpashevo\",\"Xicot\\u00e9ncatl\",\"Ola\",\"Port Shepstone\",\"Iskateley\",\"Priargunsk\",\"Utrik\",\"Kristinestad\",\"Poso\",\"Bo`ka\",\"Vernon\",\"Sault Ste. Marie\",\"L\\u0101\\u2018ie\",\"Guerrero Negro\",\"Badger\",\"Wailua Homesteads\",\"Malango\",\"Fort St. John\",\"Suomussalmi\",\"Whakatane\",\"Marabu\",\"Kangding\",\"Tazovsky\",\"T\\u00f4lanaro\",\"Northam\",\"Tralee\",\"Mount Airy\",\"Rota\",\"Castelli\",\"Sabang\",\"Kapuskasing\",\"Porto-Novo\",\"Kogalym\",\"Dhidhdhoo\",\"Salahonda\",\"Kapaa\",\"Trairi\",\"Klyuchi\",\"Haiku-Pauwela\",\"K\\u012bevka\",\"Mejit\",\"Vilyuchinsk\",\"Manokwari\",\"Touros\",\"Keflavik\",\"Vrontados\",\"Lesnoy\",\"Grand Gaube\",\"Prado\",\"Kumul\",\"Uturoa\",\"Acapulco de Ju\\u00e1rez\",\"Buala\",\"Al Hazm\",\"Alta\",\"In\\u00edrida\",\"Margate\",\"Mount Gambier\",\"Tangalle\",\"Panab\\u00e1\",\"Kelo\",\"Talnakh\",\"Kununurra\",\"Tarija\",\"Loikaw\",\"Dudinka\",\"Tyul'gan\",\"Holualoa\",\"Lensk\",\"Selfoss\",\"Ridder\",\"Solikamsk\",\"Glyn-neath\",\"Qaqortoq\",\"Nova Vi\\u00e7osa\",\"Jun\\u00edn de los Andes\",\"J\\u00f3dar\",\"Bessemer\",\"Al Kh\\u0101rijah\",\"St. John's\",\"San Vicente de Ca\\u00f1ete\",\"Ust-Tsilma\",\"Eraan\",\"Sinop Province\",\"Nuuk\",\"Lewistown\",\"Ha'il\",\"Howrah\",\"Virginia\",\"Ulsteinvik\",\"Shakawe\",\"Tucupita\",\"Usogorsk\",\"Conception Bay South\",\"Teno\",\"Thal\",\"Landerneau\",\"Natal\",\"Palmas\",\"Atar\",\"El Calafate\",\"Port Isabel\",\"Susuman\",\"Abasha\",\"Nemuro\",\"George Town\",\"Fort Bragg\",\"Beiu\\u0219\",\"Otofuke\",\"Sovetskaya Gavan'\",\"East London\",\"Yantarnyy\",\"Ust'-Ilimsk\",\"Zaoz\\u00ebrsk\",\"Chinde\",\"Walvis Bay\",\"Beni Mellal\",\"Kristiansund\",\"Argos\",\"San Pedro Pochutla\",\"Brookings\",\"Oceanside\",\"Alenquer\",\"Badr \\u1e28unayn\",\"Puerto Lempira\",\"Washington\",\"Panama City Beach\",\"Lagoa\",\"Huntsville\",\"Humait\\u00e1\",\"Minas de Marcona\",\"Freetown\",\"Taro\",\"Murghab\",\"Suozhen\",\"Lagunas\",\"T\\u00fcrkmenba\\u015fy\",\"U\\u00edge\",\"Jamestown\",\"Palmer\",\"Mossamedes\",\"San Miguel de Cozumel\",\"Beira\",\"Pavlovka\",\"Winkler\",\"Mili\",\"Petropavlovsk-Kamchatskiy\",\"Pleshchenitsy\",\"Balabac\",\"Vila Velha\",\"Saint-F\\u00e9licien\",\"Buryn'\",\"Obsharovka\",\"La Paz\",\"Maamba\",\"Halifax\",\"Mermoz Boabab\",\"Ra\\u1e29\\u012bmah\",\"Karaton\",\"Aral\",\"N\\u0101gar Karn\\u016bl\",\"Kaduqli\",\"Cuyo\",\"Pico Truncado\",\"Altai\",\"Panguipulli\",\"Pedernales\",\"Toledo\",\"Meulaboh\",\"Shimo-furano\",\"Yuzhno-Kurilsk\",\"Neftekumsk\",\"San Juli\\u00e1n\",\"Laguna\",\"Crane\",\"Finisterra\",\"Pokaran\",\"Ormara\",\"Serres\",\"Kandi\",\"Kendari\",\"Carbonear\",\"N\\u012blokheri\",\"Tumut\",\"L\\u00fcderitz\",\"Mukalla\",\"Ta`\\u016b\",\"Larne\",\"Loango\",\"Prince Rupert\",\"Kourou\",\"Hinton\",\"Tsiombe\",\"Tibati\",\"Jalor\",\"Dalai\",\"Cooma\",\"Okeechobee\",\"Scarborough\",\"Severo-Yeniseyskiy\",\"Tofol\",\"Esim\",\"Togur\",\"Aykhal\",\"Saarij\\u00e4rvi\",\"Cuddalore\",\"Salin\\u00f3polis\",\"L\\u00e1zaro C\\u00e1rdenas\",\"Prien am Chiemsee\",\"Egilsstadir\",\"S\\u00e3o Jos\\u00e9 da Coroa Grande\",\"Tura\",\"Cidreira\",\"Kerikeri\",\"Bel Ombre\",\"Zuw\\u0101rah\",\"Zou\\u00e9rat\",\"Ciudad Acu\\u00f1a\",\"Taoudenni\",\"El Porvenir\",\"Balaklava\",\"Beloyarskiy\",\"Kupang\",\"\\u00c5krehamn\",\"Venado Tuerto\",\"Gavrilov Posad\",\"Arraial do Cabo\",\"San Antonio de Pal\\u00e9\",\"Cockburn Town\",\"Greenville\",\"Usinsk\",\"Kavaratti\",\"Preobrazheniye\",\"Garissa\",\"Dryden\",\"Majenang\",\"Mau\\u00e9s\",\"Harper\",\"Zhanjiang\",\"Bardai\",\"\\u00c5m\\u00e5l\",\"Udangudi\",\"Chifeng\",\"Wadd\\u0101n\",\"S\\u00e3o Jo\\u00e3o da Barra\",\"Kharkhorin\",\"Constituci\\u00f3n\",\"Xique Xique\",\"Kalmunai\",\"City of San Pedro\",\"Arkhangelsk\",\"Vads\\u00f8\",\"Acara\\u00fa\",\"Launceston\",\"Komsomol'skiy\",\"Port Moresby\",\"Empalme\",\"Palikir\",\"Sungai Penuh\",\"Paracuru\",\"Nelson Bay\",\"Codrington\",\"Khorixas\",\"Njombe\",\"Greymouth\",\"Wajir\",\"Bekalta\",\"Chaman\",\"San Mat\\u00edas\",\"Yaren\",\"Chiredzi\",\"San Carlos\",\"Gao\",\"La Passe\",\"Borogontsy\",\"Igarka\",\"Altay\",\"Gereida\",\"Mount Pearl\",\"Manaure\",\"Ciudad Madero\",\"Villanueva\",\"Aasiaat\",\"Keuruu\",\"Namdrik\",\"Levice\",\"Naze\",\"Papao\",\"Sanibel\",\"Cadale\",\"Praia da Vit\\u00f3ria\",\"Bolgar\",\"Caceres\",\"Santa Rita\",\"Bambanglipuro\",\"Pelaya\",\"Paita\",\"Hobyo\",\"Boali\",\"Fortuna\",\"Kidal\",\"Lebu\",\"Lata\",\"New Norfolk\",\"Hutchinson\",\"Tocopilla\",\"Kudahuvadhoo\",\"Chayan\",\"Kearney\",\"Broken Hill\",\"Krasnomayskiy\",\"Galliano\",\"Banfora\",\"Dw\\u0101rka\",\"Proletariy\",\"Ina\",\"Gualaceo\",\"Bah\\u00eda de Kino\",\"S\\u00e3o Vicente\",\"Msanga\",\"Xilin Hot\",\"Brzeszcze\",\"Kruisfontein\",\"Lubang\",\"T\\u0159ebo\\u0148\",\"Sh\\u016bshtar\",\"Ekibastuz\",\"Kailua-Kona\",\"Zeya\",\"Pechora\",\"Ingeniero Guillermo N. Ju\\u00e1rez\",\"Ry\\u014dtsu-minato\",\"Geraldton\",\"Iquitos\",\"Bryne\",\"Harar\",\"Kon\\u00e9\",\"Panitian\",\"East Ballina\",\"Elverum\",\"Brisas de Zicatela\",\"And\\u00fajar\",\"Mandalgovi\",\"Queenstown\",\"Roquetas de Mar\",\"Kenora\",\"Sanctuary Point\",\"Yung Shue Wan\",\"Ankazoabo\",\"Nadym\",\"Coquimbo\",\"Leamington\",\"Dongola\",\"Xinpu\",\"Truth or Consequences\",\"Ruteng\",\"Saint-Fran\\u00e7ois\",\"Hasaki\",\"Dunedin\",\"Nyurba\",\"Belmonte\",\"Tinogasta\",\"Levuka\",\"Sinabang\",\"Magadan\",\"Macei\\u00f3\",\"Alma\",\"Isangel\",\"Weining\",\"Re\\u00e7ani\",\"Kolondi\\u00e9ba\",\"Bulle\",\"Yilan\",\"Yermentau\",\"Khanty-Mansiysk\",\"Kiunga\",\"Rudnichnyy\",\"Bandarbeyla\",\"Villa Gesell\",\"Craig\",\"Kayenta\",\"Sorong\",\"Saint Augustine Beach\",\"Tibro\",\"Pangai\",\"Esil\",\"Benalla\",\"Rumbek\",\"Sarangani\",\"Kingston\",\"Ambovombe\",\"Kizil-Arvat\",\"Rome\",\"Bodaybo\",\"Douarnenez\",\"Kattiv\\u0101kkam\",\"Diu\",\"Khandyga\",\"Mutu\\u00e1li\",\"Shache\",\"Valdivia\",\"Gornopravdinsk\",\"Bat Khela\",\"Pader Palwo\",\"Swan Hill\",\"Al Fqih Ben \\u00c7alah\"],\"shape\":[552],\"dtype\":\"object\",\"order\":\"little\"}],[\"Humidity\",{\"type\":\"ndarray\",\"array\":{\"type\":\"bytes\",\"data\":\"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\"},\"shape\":[552],\"dtype\":\"int32\",\"order\":\"little\"}],[\"color\",{\"type\":\"ndarray\",\"array\":[\"Pathein\",\"Ilulissat\",\"Port-aux-Fran\\u00e7ais\",\"Naryan-Mar\",\"Longyearbyen\",\"Blackmans Bay\",\"Adamstown\",\"Cabo San Lucas\",\"Moose Jaw\",\"Barreirinhas\",\"Atafu Village\",\"Hawaiian Paradise Park\",\"Waitangi\",\"Bilibino\",\"Flying Fish Cove\",\"Port Lincoln\",\"Thunder Bay\",\"El Abiodh Sidi Cheikh\",\"Port Elizabeth\",\"Weno\",\"West Island\",\"Reinosa\",\"College\",\"Afaahiti\",\"Puerto Natales\",\"Iqaluit\",\"Grytviken\",\"Queensbury\",\"L\\u00e1zaro C\\u00e1rdenas\",\"Avarua\",\"Kharan\",\"Bethel\",\"Albany\",\"Punta Arenas\",\"Puerto Ayora\",\"Solwezi\",\"Gadzhiyevo\",\"Stanley\",\"Nd\\u00e9l\\u00e9\",\"Nagqu Prefecture\",\"Carnarvon\",\"Zhicheng\",\"Carutapera\",\"Anadyr\",\"Nampula\",\"Lakhipur\",\"Bredasdorp\",\"Barcelos\",\"Boa Vista\",\"Rosarito\",\"Cabedelo\",\"Brigantine\",\"Eureka\",\"Tut\\u00f3ia\",\"Edinburgh of the Seven Seas\",\"Margaret River\",\"North Bend\",\"Tiksi\",\"Chonchi\",\"Papatowai\",\"Gewan\\u0113\",\"Saipan\",\"Kitwe\",\"Whitehorse\",\"Thompson\",\"Ust-Nera\",\"Amahai\",\"Saint-Philippe\",\"Nova Sintra\",\"Opuwo\",\"Porto Cristo\",\"Kirakira\",\"Callao\",\"Hammerfest\",\"Thurso\",\"Olonkinbyen\",\"Kerben\",\"Lihue\",\"Yellowknife\",\"Vila Franca do Campo\",\"Hermanus\",\"Yeni\\u015farbademli\",\"Isafjordur\",\"Umm Kaddadah\",\"Myingyan\",\"Kongsvinger\",\"Tamanghasset\",\"Kovalam\",\"Suva\",\"Caleta de Carqu\\u00edn\",\"Porto Franco\",\"Masterton\",\"Peace River\",\"Uyar\",\"Constan\\u021ba\",\"Bubaque\",\"Tyumen\",\"Puerto Ais\\u00e9n\",\"Mount Isa\",\"S\\u012bwah\",\"La Ronge\",\"Ribeira Grande\",\"Juli\",\"Rundu\",\"Castillos\",\"San Patricio\",\"Ushuaia\",\"Hithadhoo\",\"Novodvinsk\",\"El Granada\",\"Great Falls\",\"Qandala\",\"Mahina\",\"Gedaref\",\"Rio Grande\",\"Portland\",\"Obo\",\"Emerald\",\"Urangan\",\"Porto Belo\",\"Sumbawanga\",\"Invercargill\",\"Labrador City\",\"S\\u00e3o Gabriel da Cachoeira\",\"Udachny\",\"Tungip\\u0101ra\",\"Vorkuta\",\"Longboat Key\",\"Vorgashor\",\"Port Augusta\",\"Port Mathurin\",\"Caman\\u00e1\",\"Laojunmiao\",\"Klaksv\\u00edk\",\"Fale old settlement\",\"Enewetak\",\"Saldanha\",\"Calama\",\"Port Alfred\",\"Sitka\",\"Hamilton\",\"Saint Paul Harbor\",\"Angoche\",\"Tazacorte\",\"Chehalis\",\"Kulhudhuffushi\",\"Kolpashevo\",\"Xicot\\u00e9ncatl\",\"Ola\",\"Port Shepstone\",\"Iskateley\",\"Priargunsk\",\"Utrik\",\"Kristinestad\",\"Poso\",\"Bo`ka\",\"Vernon\",\"Sault Ste. Marie\",\"L\\u0101\\u2018ie\",\"Guerrero Negro\",\"Badger\",\"Wailua Homesteads\",\"Malango\",\"Fort St. John\",\"Suomussalmi\",\"Whakatane\",\"Marabu\",\"Kangding\",\"Tazovsky\",\"T\\u00f4lanaro\",\"Northam\",\"Tralee\",\"Mount Airy\",\"Rota\",\"Castelli\",\"Sabang\",\"Kapuskasing\",\"Porto-Novo\",\"Kogalym\",\"Dhidhdhoo\",\"Salahonda\",\"Kapaa\",\"Trairi\",\"Klyuchi\",\"Haiku-Pauwela\",\"K\\u012bevka\",\"Mejit\",\"Vilyuchinsk\",\"Manokwari\",\"Touros\",\"Keflavik\",\"Vrontados\",\"Lesnoy\",\"Grand Gaube\",\"Prado\",\"Kumul\",\"Uturoa\",\"Acapulco de Ju\\u00e1rez\",\"Buala\",\"Al Hazm\",\"Alta\",\"In\\u00edrida\",\"Margate\",\"Mount Gambier\",\"Tangalle\",\"Panab\\u00e1\",\"Kelo\",\"Talnakh\",\"Kununurra\",\"Tarija\",\"Loikaw\",\"Dudinka\",\"Tyul'gan\",\"Holualoa\",\"Lensk\",\"Selfoss\",\"Ridder\",\"Solikamsk\",\"Glyn-neath\",\"Qaqortoq\",\"Nova Vi\\u00e7osa\",\"Jun\\u00edn de los Andes\",\"J\\u00f3dar\",\"Bessemer\",\"Al Kh\\u0101rijah\",\"St. John's\",\"San Vicente de Ca\\u00f1ete\",\"Ust-Tsilma\",\"Eraan\",\"Sinop Province\",\"Nuuk\",\"Lewistown\",\"Ha'il\",\"Howrah\",\"Virginia\",\"Ulsteinvik\",\"Shakawe\",\"Tucupita\",\"Usogorsk\",\"Conception Bay South\",\"Teno\",\"Thal\",\"Landerneau\",\"Natal\",\"Palmas\",\"Atar\",\"El Calafate\",\"Port Isabel\",\"Susuman\",\"Abasha\",\"Nemuro\",\"George Town\",\"Fort Bragg\",\"Beiu\\u0219\",\"Otofuke\",\"Sovetskaya Gavan'\",\"East London\",\"Yantarnyy\",\"Ust'-Ilimsk\",\"Zaoz\\u00ebrsk\",\"Chinde\",\"Walvis Bay\",\"Beni Mellal\",\"Kristiansund\",\"Argos\",\"San Pedro Pochutla\",\"Brookings\",\"Oceanside\",\"Alenquer\",\"Badr \\u1e28unayn\",\"Puerto Lempira\",\"Washington\",\"Panama City Beach\",\"Lagoa\",\"Huntsville\",\"Humait\\u00e1\",\"Minas de Marcona\",\"Freetown\",\"Taro\",\"Murghab\",\"Suozhen\",\"Lagunas\",\"T\\u00fcrkmenba\\u015fy\",\"U\\u00edge\",\"Jamestown\",\"Palmer\",\"Mossamedes\",\"San Miguel de Cozumel\",\"Beira\",\"Pavlovka\",\"Winkler\",\"Mili\",\"Petropavlovsk-Kamchatskiy\",\"Pleshchenitsy\",\"Balabac\",\"Vila Velha\",\"Saint-F\\u00e9licien\",\"Buryn'\",\"Obsharovka\",\"La Paz\",\"Maamba\",\"Halifax\",\"Mermoz Boabab\",\"Ra\\u1e29\\u012bmah\",\"Karaton\",\"Aral\",\"N\\u0101gar Karn\\u016bl\",\"Kaduqli\",\"Cuyo\",\"Pico Truncado\",\"Altai\",\"Panguipulli\",\"Pedernales\",\"Toledo\",\"Meulaboh\",\"Shimo-furano\",\"Yuzhno-Kurilsk\",\"Neftekumsk\",\"San Juli\\u00e1n\",\"Laguna\",\"Crane\",\"Finisterra\",\"Pokaran\",\"Ormara\",\"Serres\",\"Kandi\",\"Kendari\",\"Carbonear\",\"N\\u012blokheri\",\"Tumut\",\"L\\u00fcderitz\",\"Mukalla\",\"Ta`\\u016b\",\"Larne\",\"Loango\",\"Prince Rupert\",\"Kourou\",\"Hinton\",\"Tsiombe\",\"Tibati\",\"Jalor\",\"Dalai\",\"Cooma\",\"Okeechobee\",\"Scarborough\",\"Severo-Yeniseyskiy\",\"Tofol\",\"Esim\",\"Togur\",\"Aykhal\",\"Saarij\\u00e4rvi\",\"Cuddalore\",\"Salin\\u00f3polis\",\"L\\u00e1zaro C\\u00e1rdenas\",\"Prien am Chiemsee\",\"Egilsstadir\",\"S\\u00e3o Jos\\u00e9 da Coroa Grande\",\"Tura\",\"Cidreira\",\"Kerikeri\",\"Bel Ombre\",\"Zuw\\u0101rah\",\"Zou\\u00e9rat\",\"Ciudad Acu\\u00f1a\",\"Taoudenni\",\"El Porvenir\",\"Balaklava\",\"Beloyarskiy\",\"Kupang\",\"\\u00c5krehamn\",\"Venado Tuerto\",\"Gavrilov Posad\",\"Arraial do Cabo\",\"San Antonio de Pal\\u00e9\",\"Cockburn Town\",\"Greenville\",\"Usinsk\",\"Kavaratti\",\"Preobrazheniye\",\"Garissa\",\"Dryden\",\"Majenang\",\"Mau\\u00e9s\",\"Harper\",\"Zhanjiang\",\"Bardai\",\"\\u00c5m\\u00e5l\",\"Udangudi\",\"Chifeng\",\"Wadd\\u0101n\",\"S\\u00e3o Jo\\u00e3o da Barra\",\"Kharkhorin\",\"Constituci\\u00f3n\",\"Xique Xique\",\"Kalmunai\",\"City of San Pedro\",\"Arkhangelsk\",\"Vads\\u00f8\",\"Acara\\u00fa\",\"Launceston\",\"Komsomol'skiy\",\"Port Moresby\",\"Empalme\",\"Palikir\",\"Sungai Penuh\",\"Paracuru\",\"Nelson Bay\",\"Codrington\",\"Khorixas\",\"Njombe\",\"Greymouth\",\"Wajir\",\"Bekalta\",\"Chaman\",\"San Mat\\u00edas\",\"Yaren\",\"Chiredzi\",\"San Carlos\",\"Gao\",\"La Passe\",\"Borogontsy\",\"Igarka\",\"Altay\",\"Gereida\",\"Mount Pearl\",\"Manaure\",\"Ciudad Madero\",\"Villanueva\",\"Aasiaat\",\"Keuruu\",\"Namdrik\",\"Levice\",\"Naze\",\"Papao\",\"Sanibel\",\"Cadale\",\"Praia da Vit\\u00f3ria\",\"Bolgar\",\"Caceres\",\"Santa Rita\",\"Bambanglipuro\",\"Pelaya\",\"Paita\",\"Hobyo\",\"Boali\",\"Fortuna\",\"Kidal\",\"Lebu\",\"Lata\",\"New Norfolk\",\"Hutchinson\",\"Tocopilla\",\"Kudahuvadhoo\",\"Chayan\",\"Kearney\",\"Broken Hill\",\"Krasnomayskiy\",\"Galliano\",\"Banfora\",\"Dw\\u0101rka\",\"Proletariy\",\"Ina\",\"Gualaceo\",\"Bah\\u00eda de Kino\",\"S\\u00e3o Vicente\",\"Msanga\",\"Xilin Hot\",\"Brzeszcze\",\"Kruisfontein\",\"Lubang\",\"T\\u0159ebo\\u0148\",\"Sh\\u016bshtar\",\"Ekibastuz\",\"Kailua-Kona\",\"Zeya\",\"Pechora\",\"Ingeniero Guillermo N. Ju\\u00e1rez\",\"Ry\\u014dtsu-minato\",\"Geraldton\",\"Iquitos\",\"Bryne\",\"Harar\",\"Kon\\u00e9\",\"Panitian\",\"East Ballina\",\"Elverum\",\"Brisas de Zicatela\",\"And\\u00fajar\",\"Mandalgovi\",\"Queenstown\",\"Roquetas de Mar\",\"Kenora\",\"Sanctuary Point\",\"Yung Shue Wan\",\"Ankazoabo\",\"Nadym\",\"Coquimbo\",\"Leamington\",\"Dongola\",\"Xinpu\",\"Truth or Consequences\",\"Ruteng\",\"Saint-Fran\\u00e7ois\",\"Hasaki\",\"Dunedin\",\"Nyurba\",\"Belmonte\",\"Tinogasta\",\"Levuka\",\"Sinabang\",\"Magadan\",\"Macei\\u00f3\",\"Alma\",\"Isangel\",\"Weining\",\"Re\\u00e7ani\",\"Kolondi\\u00e9ba\",\"Bulle\",\"Yilan\",\"Yermentau\",\"Khanty-Mansiysk\",\"Kiunga\",\"Rudnichnyy\",\"Bandarbeyla\",\"Villa Gesell\",\"Craig\",\"Kayenta\",\"Sorong\",\"Saint Augustine Beach\",\"Tibro\",\"Pangai\",\"Esil\",\"Benalla\",\"Rumbek\",\"Sarangani\",\"Kingston\",\"Ambovombe\",\"Kizil-Arvat\",\"Rome\",\"Bodaybo\",\"Douarnenez\",\"Kattiv\\u0101kkam\",\"Diu\",\"Khandyga\",\"Mutu\\u00e1li\",\"Shache\",\"Valdivia\",\"Gornopravdinsk\",\"Bat Khela\",\"Pader Palwo\",\"Swan Hill\",\"Al Fqih Ben \\u00c7alah\"],\"shape\":[552],\"dtype\":\"object\",\"order\":\"little\"}],[\"size\",{\"type\":\"ndarray\",\"array\":{\"type\":\"bytes\",\"data\":\"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\"},\"shape\":[552],\"dtype\":\"float64\",\"order\":\"little\"}]]}}},\"view\":{\"type\":\"object\",\"name\":\"CDSView\",\"id\":\"p1461\",\"attributes\":{\"filter\":{\"type\":\"object\",\"name\":\"AllIndices\",\"id\":\"p1462\"}}},\"glyph\":{\"type\":\"object\",\"name\":\"Scatter\",\"id\":\"p1455\",\"attributes\":{\"tags\":[\"apply_ranges\"],\"x\":{\"type\":\"field\",\"field\":\"Lng\"},\"y\":{\"type\":\"field\",\"field\":\"Lat\"},\"size\":{\"type\":\"field\",\"field\":\"size\"},\"line_color\":{\"type\":\"field\",\"field\":\"color\",\"transform\":{\"type\":\"object\",\"name\":\"CategoricalColorMapper\",\"id\":\"p1447\",\"attributes\":{\"palette\":[\"#1f77b3\",\"#ff7e0e\",\"#2ba02b\",\"#d62628\",\"#9367bc\",\"#8c564b\",\"#e277c1\",\"#7e7e7e\",\"#bcbc21\",\"#16bdcf\",\"#3a0182\",\"#004201\",\"#0fffa8\",\"#5d003f\",\"#bcbcff\",\"#d8afa1\",\"#b80080\",\"#004d52\",\"#6b6400\",\"#7c0100\",\"#6026ff\",\"#ffff9a\",\"#564964\",\"#8cb893\",\"#93fbff\",\"#018267\",\"#90ff00\",\"#8200a0\",\"#ac8944\",\"#5b3400\",\"#ffbff2\",\"#ff6e75\",\"#798cff\",\"#dd00ff\",\"#505646\",\"#004489\",\"#ffbf60\",\"#ff018c\",\"#bdc8cf\",\"#af97b5\",\"#b65600\",\"#017000\",\"#cd87ff\",\"#1cd646\",\"#bfebc3\",\"#7997b5\",\"#a56089\",\"#6e8956\",\"#bc7c75\",\"#8a2844\",\"#00acff\",\"#8ed4ff\",\"#4b6d77\",\"#00d4b1\",\"#9300f2\",\"#8a9500\",\"#5d5b9e\",\"#fddfba\",\"#00939e\",\"#ffdb00\",\"#00aa79\",\"#520067\",\"#000091\",\"#0a5d3d\",\"#a5e275\",\"#623b41\",\"#c6c689\",\"#ff9eb5\",\"#cd4f6b\",\"#ff07d6\",\"#8a3a05\",\"#7e3d70\",\"#ff4901\",\"#602ba5\",\"#1c00ff\",\"#e6dfff\",\"#aa3baf\",\"#d89c00\",\"#a3a39e\",\"#3f69ff\",\"#46490c\",\"#7b6985\",\"#6b978c\",\"#ff9a75\",\"#835bff\",\"#7c6b46\",\"#80b654\",\"#bc0049\",\"#fd93ff\",\"#5d0018\",\"#89d1d1\",\"#9c8cd3\",\"#da6d42\",\"#8a5700\",\"#3b5069\",\"#4b6b3b\",\"#edcfd8\",\"#cfedff\",\"#aa1500\",\"#dfff4f\",\"#ff2a56\",\"#d1499e\",\"#707cb8\",\"#598000\",\"#00e4fd\",\"#774b95\",\"#67d48c\",\"#3d3a72\",\"#ac413f\",\"#d6a166\",\"#c169cd\",\"#69595d\",\"#87aced\",\"#a0a569\",\"#d1aae6\",\"#870062\",\"#00fddb\",\"#672818\",\"#b342ff\",\"#0e59c4\",\"#168742\",\"#90d300\",\"#cd7900\",\"#f959ff\",\"#5b7466\",\"#8eaeb3\",\"#9c7c8c\",\"#4600c6\",\"#6b4d2d\",\"#a56d46\",\"#9e8972\",\"#a8afca\",\"#cd8ca7\",\"#00fd64\",\"#917900\",\"#ff62a1\",\"#f4ffd8\",\"#018cf0\",\"#13aca0\",\"#5b2d59\",\"#89859e\",\"#cfccba\",\"#d4afc4\",\"#dbdd6d\",\"#cffff4\",\"#006485\",\"#006962\",\"#a84167\",\"#2d97c4\",\"#a874ff\",\"#26ba5d\",\"#57b600\",\"#caffa7\",\"#a379aa\",\"#ffbc93\",\"#89e2c1\",\"#0fc8ff\",\"#d400c4\",\"#626d89\",\"#69858e\",\"#4b4d52\",\"#aa6067\",\"#79b5d4\",\"#2b5916\",\"#9a0024\",\"#bdd1f2\",\"#896e67\",\"#69a56b\",\"#855467\",\"#aecdba\",\"#87997e\",\"#cadb00\",\"#9a0390\",\"#ebbc1a\",\"#eb9cd1\",\"#70006e\",\"#b1a131\",\"#ca6b93\",\"#4146a3\",\"#e48c89\",\"#d44400\",\"#c68aca\",\"#b69597\",\"#d41f75\",\"#724bcc\",\"#674d00\",\"#672138\",\"#38564f\",\"#6ebaaa\",\"#853a31\",\"#a5d397\",\"#b8af8e\",\"#d8e4df\",\"#aa00df\",\"#cac1db\",\"#ffdf8c\",\"#e2524d\",\"#66696e\",\"#ff001c\",\"#522d72\",\"#4d906b\",\"#a86d11\",\"#ff9e26\",\"#5ea3af\",\"#c88556\",\"#915997\",\"#a3a1ff\",\"#fdbaba\",\"#242a87\",\"#dbe6a8\",\"#97f2a7\",\"#6793d6\",\"#ba5b3f\",\"#3a5d91\",\"#364f2f\",\"#267c95\",\"#89959a\",\"#cfb356\",\"#004664\",\"#5e5d2f\",\"#8e8e41\",\"#ac3f13\",\"#69953b\",\"#a13d85\",\"#bfb6ba\",\"#acc667\",\"#6469cf\",\"#91af00\",\"#2be2da\",\"#016e36\",\"#ff7952\",\"#42807e\",\"#4fe800\",\"#995428\",\"#5d0a00\",\"#a30057\",\"#0c8700\",\"#5982a7\",\"#ffebfb\",\"#4b6901\",\"#8775d4\",\"#e6c6ff\",\"#a5ffda\",\"#d86e77\",\"#df014b\",\"#69675b\",\"#776ba1\",\"#7e8067\",\"#594685\",\"#0000ca\",\"#7c002a\",\"#97ff72\",\"#b5e2e1\",\"#db52c8\",\"#777734\",\"#57bd8e\",\"#1f77b3\",\"#ff7e0e\",\"#2ba02b\",\"#d62628\",\"#9367bc\",\"#8c564b\",\"#e277c1\",\"#7e7e7e\",\"#bcbc21\",\"#16bdcf\",\"#3a0182\",\"#004201\",\"#0fffa8\",\"#5d003f\",\"#bcbcff\",\"#d8afa1\",\"#b80080\",\"#004d52\",\"#6b6400\",\"#7c0100\",\"#6026ff\",\"#ffff9a\",\"#564964\",\"#8cb893\",\"#93fbff\",\"#018267\",\"#90ff00\",\"#8200a0\",\"#ac8944\",\"#5b3400\",\"#ffbff2\",\"#ff6e75\",\"#798cff\",\"#dd00ff\",\"#505646\",\"#004489\",\"#ffbf60\",\"#ff018c\",\"#bdc8cf\",\"#af97b5\",\"#b65600\",\"#017000\",\"#cd87ff\",\"#1cd646\",\"#bfebc3\",\"#7997b5\",\"#a56089\",\"#6e8956\",\"#bc7c75\",\"#8a2844\",\"#00acff\",\"#8ed4ff\",\"#4b6d77\",\"#00d4b1\",\"#9300f2\",\"#8a9500\",\"#5d5b9e\",\"#fddfba\",\"#00939e\",\"#ffdb00\",\"#00aa79\",\"#520067\",\"#000091\",\"#0a5d3d\",\"#a5e275\",\"#623b41\",\"#c6c689\",\"#ff9eb5\",\"#cd4f6b\",\"#ff07d6\",\"#8a3a05\",\"#7e3d70\",\"#ff4901\",\"#602ba5\",\"#1c00ff\",\"#e6dfff\",\"#aa3baf\",\"#d89c00\",\"#a3a39e\",\"#3f69ff\",\"#46490c\",\"#7b6985\",\"#6b978c\",\"#ff9a75\",\"#835bff\",\"#7c6b46\",\"#80b654\",\"#bc0049\",\"#fd93ff\",\"#5d0018\",\"#89d1d1\",\"#9c8cd3\",\"#da6d42\",\"#8a5700\",\"#3b5069\",\"#4b6b3b\",\"#edcfd8\",\"#cfedff\",\"#aa1500\",\"#dfff4f\",\"#ff2a56\",\"#d1499e\",\"#707cb8\",\"#598000\",\"#00e4fd\",\"#774b95\",\"#67d48c\",\"#3d3a72\",\"#ac413f\",\"#d6a166\",\"#c169cd\",\"#69595d\",\"#87aced\",\"#a0a569\",\"#d1aae6\",\"#870062\",\"#00fddb\",\"#672818\",\"#b342ff\",\"#0e59c4\",\"#168742\",\"#90d300\",\"#cd7900\",\"#f959ff\",\"#5b7466\",\"#8eaeb3\",\"#9c7c8c\",\"#4600c6\",\"#6b4d2d\",\"#a56d46\",\"#9e8972\",\"#a8afca\",\"#cd8ca7\",\"#00fd64\",\"#917900\",\"#ff62a1\",\"#f4ffd8\",\"#018cf0\",\"#13aca0\",\"#5b2d59\",\"#89859e\",\"#cfccba\",\"#d4afc4\",\"#dbdd6d\",\"#cffff4\",\"#006485\",\"#006962\",\"#a84167\",\"#2d97c4\",\"#a874ff\",\"#26ba5d\",\"#57b600\",\"#caffa7\",\"#a379aa\",\"#ffbc93\",\"#89e2c1\",\"#0fc8ff\",\"#d400c4\",\"#626d89\",\"#69858e\",\"#4b4d52\",\"#aa6067\",\"#79b5d4\",\"#2b5916\",\"#9a0024\",\"#bdd1f2\",\"#896e67\",\"#69a56b\",\"#855467\",\"#aecdba\",\"#87997e\",\"#cadb00\",\"#9a0390\",\"#ebbc1a\",\"#eb9cd1\",\"#70006e\",\"#b1a131\",\"#ca6b93\",\"#4146a3\",\"#e48c89\",\"#d44400\",\"#c68aca\",\"#b69597\",\"#d41f75\",\"#724bcc\",\"#674d00\",\"#672138\",\"#38564f\",\"#6ebaaa\",\"#853a31\",\"#a5d397\",\"#b8af8e\",\"#d8e4df\",\"#aa00df\",\"#cac1db\",\"#ffdf8c\",\"#e2524d\",\"#66696e\",\"#ff001c\",\"#522d72\",\"#4d906b\",\"#a86d11\",\"#ff9e26\",\"#5ea3af\",\"#c88556\",\"#915997\",\"#a3a1ff\",\"#fdbaba\",\"#242a87\",\"#dbe6a8\",\"#97f2a7\",\"#6793d6\",\"#ba5b3f\",\"#3a5d91\",\"#364f2f\",\"#267c95\",\"#89959a\",\"#cfb356\",\"#004664\",\"#5e5d2f\",\"#8e8e41\",\"#ac3f13\",\"#69953b\",\"#a13d85\",\"#bfb6ba\",\"#acc667\",\"#6469cf\",\"#91af00\",\"#2be2da\",\"#016e36\",\"#ff7952\",\"#42807e\",\"#4fe800\",\"#995428\",\"#5d0a00\",\"#a30057\",\"#0c8700\",\"#5982a7\",\"#ffebfb\",\"#4b6901\",\"#8775d4\",\"#e6c6ff\",\"#a5ffda\",\"#d86e77\",\"#df014b\",\"#69675b\",\"#776ba1\",\"#7e8067\",\"#594685\",\"#0000ca\",\"#7c002a\",\"#97ff72\",\"#b5e2e1\",\"#db52c8\",\"#777734\",\"#57bd8e\",\"#1f77b3\",\"#ff7e0e\",\"#2ba02b\",\"#d62628\",\"#9367bc\",\"#8c564b\",\"#e277c1\",\"#7e7e7e\",\"#bcbc21\",\"#16bdcf\",\"#3a0182\",\"#004201\",\"#0fffa8\",\"#5d003f\",\"#bcbcff\",\"#d8afa1\",\"#b80080\",\"#004d52\",\"#6b6400\",\"#7c0100\",\"#6026ff\",\"#ffff9a\",\"#564964\",\"#8cb893\",\"#93fbff\",\"#018267\",\"#90ff00\",\"#8200a0\",\"#ac8944\",\"#5b3400\",\"#ffbff2\",\"#ff6e75\",\"#798cff\",\"#dd00ff\",\"#505646\",\"#004489\",\"#ffbf60\",\"#ff018c\",\"#bdc8cf\"],\"factors\":[\"Pathein\",\"Ilulissat\",\"Port-aux-Fran\\u00e7ais\",\"Naryan-Mar\",\"Longyearbyen\",\"Blackmans Bay\",\"Adamstown\",\"Cabo San Lucas\",\"Moose Jaw\",\"Barreirinhas\",\"Atafu Village\",\"Hawaiian Paradise Park\",\"Waitangi\",\"Bilibino\",\"Flying Fish Cove\",\"Port Lincoln\",\"Thunder Bay\",\"El Abiodh Sidi Cheikh\",\"Port Elizabeth\",\"Weno\",\"West Island\",\"Reinosa\",\"College\",\"Afaahiti\",\"Puerto Natales\",\"Iqaluit\",\"Grytviken\",\"Queensbury\",\"L\\u00e1zaro C\\u00e1rdenas\",\"Avarua\",\"Kharan\",\"Bethel\",\"Albany\",\"Punta Arenas\",\"Puerto Ayora\",\"Solwezi\",\"Gadzhiyevo\",\"Stanley\",\"Nd\\u00e9l\\u00e9\",\"Nagqu Prefecture\",\"Carnarvon\",\"Zhicheng\",\"Carutapera\",\"Anadyr\",\"Nampula\",\"Lakhipur\",\"Bredasdorp\",\"Barcelos\",\"Boa Vista\",\"Rosarito\",\"Cabedelo\",\"Brigantine\",\"Eureka\",\"Tut\\u00f3ia\",\"Edinburgh of the Seven Seas\",\"Margaret River\",\"North Bend\",\"Tiksi\",\"Chonchi\",\"Papatowai\",\"Gewan\\u0113\",\"Saipan\",\"Kitwe\",\"Whitehorse\",\"Thompson\",\"Ust-Nera\",\"Amahai\",\"Saint-Philippe\",\"Nova Sintra\",\"Opuwo\",\"Porto Cristo\",\"Kirakira\",\"Callao\",\"Hammerfest\",\"Thurso\",\"Olonkinbyen\",\"Kerben\",\"Lihue\",\"Yellowknife\",\"Vila Franca do Campo\",\"Hermanus\",\"Yeni\\u015farbademli\",\"Isafjordur\",\"Umm Kaddadah\",\"Myingyan\",\"Kongsvinger\",\"Tamanghasset\",\"Kovalam\",\"Suva\",\"Caleta de Carqu\\u00edn\",\"Porto Franco\",\"Masterton\",\"Peace River\",\"Uyar\",\"Constan\\u021ba\",\"Bubaque\",\"Tyumen\",\"Puerto Ais\\u00e9n\",\"Mount Isa\",\"S\\u012bwah\",\"La Ronge\",\"Ribeira Grande\",\"Juli\",\"Rundu\",\"Castillos\",\"San Patricio\",\"Ushuaia\",\"Hithadhoo\",\"Novodvinsk\",\"El Granada\",\"Great Falls\",\"Qandala\",\"Mahina\",\"Gedaref\",\"Rio Grande\",\"Portland\",\"Obo\",\"Emerald\",\"Urangan\",\"Porto Belo\",\"Sumbawanga\",\"Invercargill\",\"Labrador City\",\"S\\u00e3o Gabriel da Cachoeira\",\"Udachny\",\"Tungip\\u0101ra\",\"Vorkuta\",\"Longboat Key\",\"Vorgashor\",\"Port Augusta\",\"Port Mathurin\",\"Caman\\u00e1\",\"Laojunmiao\",\"Klaksv\\u00edk\",\"Fale old settlement\",\"Enewetak\",\"Saldanha\",\"Calama\",\"Port Alfred\",\"Sitka\",\"Hamilton\",\"Saint Paul Harbor\",\"Angoche\",\"Tazacorte\",\"Chehalis\",\"Kulhudhuffushi\",\"Kolpashevo\",\"Xicot\\u00e9ncatl\",\"Ola\",\"Port Shepstone\",\"Iskateley\",\"Priargunsk\",\"Utrik\",\"Kristinestad\",\"Poso\",\"Bo`ka\",\"Vernon\",\"Sault Ste. Marie\",\"L\\u0101\\u2018ie\",\"Guerrero Negro\",\"Badger\",\"Wailua Homesteads\",\"Malango\",\"Fort St. John\",\"Suomussalmi\",\"Whakatane\",\"Marabu\",\"Kangding\",\"Tazovsky\",\"T\\u00f4lanaro\",\"Northam\",\"Tralee\",\"Mount Airy\",\"Rota\",\"Castelli\",\"Sabang\",\"Kapuskasing\",\"Porto-Novo\",\"Kogalym\",\"Dhidhdhoo\",\"Salahonda\",\"Kapaa\",\"Trairi\",\"Klyuchi\",\"Haiku-Pauwela\",\"K\\u012bevka\",\"Mejit\",\"Vilyuchinsk\",\"Manokwari\",\"Touros\",\"Keflavik\",\"Vrontados\",\"Lesnoy\",\"Grand Gaube\",\"Prado\",\"Kumul\",\"Uturoa\",\"Acapulco de Ju\\u00e1rez\",\"Buala\",\"Al Hazm\",\"Alta\",\"In\\u00edrida\",\"Margate\",\"Mount Gambier\",\"Tangalle\",\"Panab\\u00e1\",\"Kelo\",\"Talnakh\",\"Kununurra\",\"Tarija\",\"Loikaw\",\"Dudinka\",\"Tyul'gan\",\"Holualoa\",\"Lensk\",\"Selfoss\",\"Ridder\",\"Solikamsk\",\"Glyn-neath\",\"Qaqortoq\",\"Nova Vi\\u00e7osa\",\"Jun\\u00edn de los Andes\",\"J\\u00f3dar\",\"Bessemer\",\"Al Kh\\u0101rijah\",\"St. John's\",\"San Vicente de Ca\\u00f1ete\",\"Ust-Tsilma\",\"Eraan\",\"Sinop Province\",\"Nuuk\",\"Lewistown\",\"Ha'il\",\"Howrah\",\"Virginia\",\"Ulsteinvik\",\"Shakawe\",\"Tucupita\",\"Usogorsk\",\"Conception Bay South\",\"Teno\",\"Thal\",\"Landerneau\",\"Natal\",\"Palmas\",\"Atar\",\"El Calafate\",\"Port Isabel\",\"Susuman\",\"Abasha\",\"Nemuro\",\"George Town\",\"Fort Bragg\",\"Beiu\\u0219\",\"Otofuke\",\"Sovetskaya Gavan'\",\"East London\",\"Yantarnyy\",\"Ust'-Ilimsk\",\"Zaoz\\u00ebrsk\",\"Chinde\",\"Walvis Bay\",\"Beni Mellal\",\"Kristiansund\",\"Argos\",\"San Pedro Pochutla\",\"Brookings\",\"Oceanside\",\"Alenquer\",\"Badr \\u1e28unayn\",\"Puerto Lempira\",\"Washington\",\"Panama City Beach\",\"Lagoa\",\"Huntsville\",\"Humait\\u00e1\",\"Minas de Marcona\",\"Freetown\",\"Taro\",\"Murghab\",\"Suozhen\",\"Lagunas\",\"T\\u00fcrkmenba\\u015fy\",\"U\\u00edge\",\"Jamestown\",\"Palmer\",\"Mossamedes\",\"San Miguel de Cozumel\",\"Beira\",\"Pavlovka\",\"Winkler\",\"Mili\",\"Petropavlovsk-Kamchatskiy\",\"Pleshchenitsy\",\"Balabac\",\"Vila Velha\",\"Saint-F\\u00e9licien\",\"Buryn'\",\"Obsharovka\",\"La Paz\",\"Maamba\",\"Halifax\",\"Mermoz Boabab\",\"Ra\\u1e29\\u012bmah\",\"Karaton\",\"Aral\",\"N\\u0101gar Karn\\u016bl\",\"Kaduqli\",\"Cuyo\",\"Pico Truncado\",\"Altai\",\"Panguipulli\",\"Pedernales\",\"Toledo\",\"Meulaboh\",\"Shimo-furano\",\"Yuzhno-Kurilsk\",\"Neftekumsk\",\"San Juli\\u00e1n\",\"Laguna\",\"Crane\",\"Finisterra\",\"Pokaran\",\"Ormara\",\"Serres\",\"Kandi\",\"Kendari\",\"Carbonear\",\"N\\u012blokheri\",\"Tumut\",\"L\\u00fcderitz\",\"Mukalla\",\"Ta`\\u016b\",\"Larne\",\"Loango\",\"Prince Rupert\",\"Kourou\",\"Hinton\",\"Tsiombe\",\"Tibati\",\"Jalor\",\"Dalai\",\"Cooma\",\"Okeechobee\",\"Scarborough\",\"Severo-Yeniseyskiy\",\"Tofol\",\"Esim\",\"Togur\",\"Aykhal\",\"Saarij\\u00e4rvi\",\"Cuddalore\",\"Salin\\u00f3polis\",\"Prien am Chiemsee\",\"Egilsstadir\",\"S\\u00e3o Jos\\u00e9 da Coroa Grande\",\"Tura\",\"Cidreira\",\"Kerikeri\",\"Bel Ombre\",\"Zuw\\u0101rah\",\"Zou\\u00e9rat\",\"Ciudad Acu\\u00f1a\",\"Taoudenni\",\"El Porvenir\",\"Balaklava\",\"Beloyarskiy\",\"Kupang\",\"\\u00c5krehamn\",\"Venado Tuerto\",\"Gavrilov Posad\",\"Arraial do Cabo\",\"San Antonio de Pal\\u00e9\",\"Cockburn Town\",\"Greenville\",\"Usinsk\",\"Kavaratti\",\"Preobrazheniye\",\"Garissa\",\"Dryden\",\"Majenang\",\"Mau\\u00e9s\",\"Harper\",\"Zhanjiang\",\"Bardai\",\"\\u00c5m\\u00e5l\",\"Udangudi\",\"Chifeng\",\"Wadd\\u0101n\",\"S\\u00e3o Jo\\u00e3o da Barra\",\"Kharkhorin\",\"Constituci\\u00f3n\",\"Xique Xique\",\"Kalmunai\",\"City of San Pedro\",\"Arkhangelsk\",\"Vads\\u00f8\",\"Acara\\u00fa\",\"Launceston\",\"Komsomol'skiy\",\"Port Moresby\",\"Empalme\",\"Palikir\",\"Sungai Penuh\",\"Paracuru\",\"Nelson Bay\",\"Codrington\",\"Khorixas\",\"Njombe\",\"Greymouth\",\"Wajir\",\"Bekalta\",\"Chaman\",\"San Mat\\u00edas\",\"Yaren\",\"Chiredzi\",\"San Carlos\",\"Gao\",\"La Passe\",\"Borogontsy\",\"Igarka\",\"Altay\",\"Gereida\",\"Mount Pearl\",\"Manaure\",\"Ciudad Madero\",\"Villanueva\",\"Aasiaat\",\"Keuruu\",\"Namdrik\",\"Levice\",\"Naze\",\"Papao\",\"Sanibel\",\"Cadale\",\"Praia da Vit\\u00f3ria\",\"Bolgar\",\"Caceres\",\"Santa Rita\",\"Bambanglipuro\",\"Pelaya\",\"Paita\",\"Hobyo\",\"Boali\",\"Fortuna\",\"Kidal\",\"Lebu\",\"Lata\",\"New Norfolk\",\"Hutchinson\",\"Tocopilla\",\"Kudahuvadhoo\",\"Chayan\",\"Kearney\",\"Broken Hill\",\"Krasnomayskiy\",\"Galliano\",\"Banfora\",\"Dw\\u0101rka\",\"Proletariy\",\"Ina\",\"Gualaceo\",\"Bah\\u00eda de Kino\",\"S\\u00e3o Vicente\",\"Msanga\",\"Xilin Hot\",\"Brzeszcze\",\"Kruisfontein\",\"Lubang\",\"T\\u0159ebo\\u0148\",\"Sh\\u016bshtar\",\"Ekibastuz\",\"Kailua-Kona\",\"Zeya\",\"Pechora\",\"Ingeniero Guillermo N. Ju\\u00e1rez\",\"Ry\\u014dtsu-minato\",\"Geraldton\",\"Iquitos\",\"Bryne\",\"Harar\",\"Kon\\u00e9\",\"Panitian\",\"East Ballina\",\"Elverum\",\"Brisas de Zicatela\",\"And\\u00fajar\",\"Mandalgovi\",\"Queenstown\",\"Roquetas de Mar\",\"Kenora\",\"Sanctuary Point\",\"Yung Shue Wan\",\"Ankazoabo\",\"Nadym\",\"Coquimbo\",\"Leamington\",\"Dongola\",\"Xinpu\",\"Truth or Consequences\",\"Ruteng\",\"Saint-Fran\\u00e7ois\",\"Hasaki\",\"Dunedin\",\"Nyurba\",\"Belmonte\",\"Tinogasta\",\"Levuka\",\"Sinabang\",\"Magadan\",\"Macei\\u00f3\",\"Alma\",\"Isangel\",\"Weining\",\"Re\\u00e7ani\",\"Kolondi\\u00e9ba\",\"Bulle\",\"Yilan\",\"Yermentau\",\"Khanty-Mansiysk\",\"Kiunga\",\"Rudnichnyy\",\"Bandarbeyla\",\"Villa Gesell\",\"Craig\",\"Kayenta\",\"Sorong\",\"Saint Augustine Beach\",\"Tibro\",\"Pangai\",\"Esil\",\"Benalla\",\"Rumbek\",\"Sarangani\",\"Kingston\",\"Ambovombe\",\"Kizil-Arvat\",\"Rome\",\"Bodaybo\",\"Douarnenez\",\"Kattiv\\u0101kkam\",\"Diu\",\"Khandyga\",\"Mutu\\u00e1li\",\"Shache\",\"Valdivia\",\"Gornopravdinsk\",\"Bat Khela\",\"Pader Palwo\",\"Swan Hill\",\"Al Fqih Ben \\u00c7alah\"]}}},\"fill_color\":{\"type\":\"field\",\"field\":\"color\",\"transform\":{\"id\":\"p1447\"}},\"hatch_color\":{\"type\":\"field\",\"field\":\"color\",\"transform\":{\"id\":\"p1447\"}}}},\"selection_glyph\":{\"type\":\"object\",\"name\":\"Scatter\",\"id\":\"p1457\",\"attributes\":{\"tags\":[\"apply_ranges\"],\"x\":{\"type\":\"field\",\"field\":\"Lng\"},\"y\":{\"type\":\"field\",\"field\":\"Lat\"},\"size\":{\"type\":\"field\",\"field\":\"size\"},\"line_color\":{\"type\":\"field\",\"field\":\"color\",\"transform\":{\"id\":\"p1447\"}},\"fill_color\":{\"type\":\"field\",\"field\":\"color\",\"transform\":{\"id\":\"p1447\"}},\"hatch_color\":{\"type\":\"field\",\"field\":\"color\",\"transform\":{\"id\":\"p1447\"}}}},\"nonselection_glyph\":{\"type\":\"object\",\"name\":\"Scatter\",\"id\":\"p1456\",\"attributes\":{\"tags\":[\"apply_ranges\"],\"x\":{\"type\":\"field\",\"field\":\"Lng\"},\"y\":{\"type\":\"field\",\"field\":\"Lat\"},\"size\":{\"type\":\"field\",\"field\":\"size\"},\"line_color\":{\"type\":\"field\",\"field\":\"color\",\"transform\":{\"id\":\"p1447\"}},\"line_alpha\":{\"type\":\"value\",\"value\":0.1},\"fill_color\":{\"type\":\"field\",\"field\":\"color\",\"transform\":{\"id\":\"p1447\"}},\"fill_alpha\":{\"type\":\"value\",\"value\":0.1},\"hatch_color\":{\"type\":\"field\",\"field\":\"color\",\"transform\":{\"id\":\"p1447\"}},\"hatch_alpha\":{\"type\":\"value\",\"value\":0.1}}},\"hover_glyph\":{\"type\":\"object\",\"name\":\"Scatter\",\"id\":\"p1458\",\"attributes\":{\"tags\":[\"apply_ranges\"],\"x\":{\"type\":\"field\",\"field\":\"Lng\"},\"y\":{\"type\":\"field\",\"field\":\"Lat\"},\"size\":{\"type\":\"field\",\"field\":\"size\"},\"line_color\":{\"type\":\"field\",\"field\":\"color\",\"transform\":{\"id\":\"p1447\"}},\"fill_color\":{\"type\":\"field\",\"field\":\"color\",\"transform\":{\"id\":\"p1447\"}},\"hatch_color\":{\"type\":\"field\",\"field\":\"color\",\"transform\":{\"id\":\"p1447\"}}}},\"muted_glyph\":{\"type\":\"object\",\"name\":\"Scatter\",\"id\":\"p1459\",\"attributes\":{\"tags\":[\"apply_ranges\"],\"x\":{\"type\":\"field\",\"field\":\"Lng\"},\"y\":{\"type\":\"field\",\"field\":\"Lat\"},\"size\":{\"type\":\"field\",\"field\":\"size\"},\"line_color\":{\"type\":\"field\",\"field\":\"color\",\"transform\":{\"id\":\"p1447\"}},\"line_alpha\":{\"type\":\"value\",\"value\":0.2},\"fill_color\":{\"type\":\"field\",\"field\":\"color\",\"transform\":{\"id\":\"p1447\"}},\"fill_alpha\":{\"type\":\"value\",\"value\":0.2},\"hatch_color\":{\"type\":\"field\",\"field\":\"color\",\"transform\":{\"id\":\"p1447\"}},\"hatch_alpha\":{\"type\":\"value\",\"value\":0.2}}}}}],\"toolbar\":{\"type\":\"object\",\"name\":\"Toolbar\",\"id\":\"p1377\",\"attributes\":{\"tools\":[{\"type\":\"object\",\"name\":\"WheelZoomTool\",\"id\":\"p1362\",\"attributes\":{\"zoom_on_axis\":false}},{\"type\":\"object\",\"name\":\"BoxZoomTool\",\"id\":\"p1364\",\"attributes\":{\"overlay\":{\"type\":\"object\",\"name\":\"BoxAnnotation\",\"id\":\"p1004\",\"attributes\":{\"syncable\":false,\"level\":\"overlay\",\"visible\":false,\"left_units\":\"canvas\",\"right_units\":\"canvas\",\"bottom_units\":\"canvas\",\"top_units\":\"canvas\",\"line_color\":\"black\",\"line_alpha\":1.0,\"line_width\":2,\"line_dash\":[4,4],\"fill_color\":\"lightgrey\",\"fill_alpha\":0.5}},\"match_aspect\":true}},{\"type\":\"object\",\"name\":\"HoverTool\",\"id\":\"p1370\",\"attributes\":{\"tags\":[\"hv_created\"],\"renderers\":[{\"id\":\"p1460\"}],\"tooltips\":[[\"Lng\",\"$x{custom}\"],[\"Lat\",\"$y{custom}\"],[\"City\",\"@{City}\"],[\"Humidity\",\"@{Humidity}\"]],\"formatters\":{\"type\":\"map\",\"entries\":[[\"$x\",{\"type\":\"object\",\"name\":\"CustomJSHover\",\"id\":\"p1466\",\"attributes\":{\"code\":\"\\n        const projections = Bokeh.require(\\\"core/util/projections\\\");\\n        const {snap_x, snap_y} = special_vars\\n        const coords = projections.wgs84_mercator.invert(snap_x, snap_y)\\n        return \\\"\\\" + (coords[0]).toFixed(4)\\n    \"}}],[\"$y\",{\"type\":\"object\",\"name\":\"CustomJSHover\",\"id\":\"p1467\",\"attributes\":{\"code\":\"\\n        const projections = Bokeh.require(\\\"core/util/projections\\\");\\n        const {snap_x, snap_y} = special_vars\\n        const coords = projections.wgs84_mercator.invert(snap_x, snap_y)\\n        return \\\"\\\" + (coords[1]).toFixed(4)\\n    \"}}]]}}},{\"type\":\"object\",\"name\":\"PanTool\",\"id\":\"p1402\"},{\"type\":\"object\",\"name\":\"ResetTool\",\"id\":\"p1403\"}],\"active_drag\":{\"id\":\"p1402\"}}},\"left\":[{\"type\":\"object\",\"name\":\"LinearAxis\",\"id\":\"p1394\",\"attributes\":{\"ticker\":{\"type\":\"object\",\"name\":\"MercatorTicker\",\"id\":\"p1413\",\"attributes\":{\"mantissas\":[1,2,5],\"dimension\":\"lat\"}},\"formatter\":{\"type\":\"object\",\"name\":\"MercatorTickFormatter\",\"id\":\"p1414\",\"attributes\":{\"dimension\":\"lat\"}},\"axis_label\":\"Latitude\",\"major_label_policy\":{\"type\":\"object\",\"name\":\"AllLabels\",\"id\":\"p1397\"}}}],\"right\":[{\"type\":\"object\",\"name\":\"Legend\",\"id\":\"p1463\",\"attributes\":{\"location\":[0,0],\"click_policy\":\"mute\",\"items\":[{\"type\":\"object\",\"name\":\"LegendItem\",\"id\":\"p1464\",\"attributes\":{\"label\":{\"type\":\"field\",\"field\":\"color\"},\"renderers\":[{\"id\":\"p1460\"}]}}]}}],\"below\":[{\"type\":\"object\",\"name\":\"LinearAxis\",\"id\":\"p1387\",\"attributes\":{\"ticker\":{\"type\":\"object\",\"name\":\"MercatorTicker\",\"id\":\"p1411\",\"attributes\":{\"mantissas\":[1,2,5],\"dimension\":\"lon\"}},\"formatter\":{\"type\":\"object\",\"name\":\"MercatorTickFormatter\",\"id\":\"p1412\",\"attributes\":{\"dimension\":\"lon\"}},\"axis_label\":\"Longitude\",\"major_label_policy\":{\"type\":\"object\",\"name\":\"AllLabels\",\"id\":\"p1390\"}}}],\"center\":[{\"type\":\"object\",\"name\":\"Grid\",\"id\":\"p1393\",\"attributes\":{\"axis\":{\"id\":\"p1387\"},\"grid_line_color\":null}},{\"type\":\"object\",\"name\":\"Grid\",\"id\":\"p1400\",\"attributes\":{\"dimension\":1,\"axis\":{\"id\":\"p1394\"},\"grid_line_color\":null}}],\"frame_width\":600,\"frame_height\":400,\"min_border_top\":10,\"min_border_bottom\":10,\"min_border_left\":10,\"min_border_right\":10,\"output_backend\":\"webgl\",\"match_aspect\":true}},{\"type\":\"object\",\"name\":\"Spacer\",\"id\":\"p1479\",\"attributes\":{\"name\":\"HSpacer01893\",\"stylesheets\":[\"\\n:host(.pn-loading.pn-arc):before, .pn-loading.pn-arc:before {\\n  background-image: url(\\\"data:image/svg+xml;base64,PHN2ZyB4bWxucz0iaHR0cDovL3d3dy53My5vcmcvMjAwMC9zdmciIHN0eWxlPSJtYXJnaW46IGF1dG87IGJhY2tncm91bmQ6IG5vbmU7IGRpc3BsYXk6IGJsb2NrOyBzaGFwZS1yZW5kZXJpbmc6IGF1dG87IiB2aWV3Qm94PSIwIDAgMTAwIDEwMCIgcHJlc2VydmVBc3BlY3RSYXRpbz0ieE1pZFlNaWQiPiAgPGNpcmNsZSBjeD0iNTAiIGN5PSI1MCIgZmlsbD0ibm9uZSIgc3Ryb2tlPSIjYzNjM2MzIiBzdHJva2Utd2lkdGg9IjEwIiByPSIzNSIgc3Ryb2tlLWRhc2hhcnJheT0iMTY0LjkzMzYxNDMxMzQ2NDE1IDU2Ljk3Nzg3MTQzNzgyMTM4Ij4gICAgPGFuaW1hdGVUcmFuc2Zvcm0gYXR0cmlidXRlTmFtZT0idHJhbnNmb3JtIiB0eXBlPSJyb3RhdGUiIHJlcGVhdENvdW50PSJpbmRlZmluaXRlIiBkdXI9IjFzIiB2YWx1ZXM9IjAgNTAgNTA7MzYwIDUwIDUwIiBrZXlUaW1lcz0iMDsxIj48L2FuaW1hdGVUcmFuc2Zvcm0+ICA8L2NpcmNsZT48L3N2Zz4=\\\");\\n  background-size: auto calc(min(50%, 400px));\\n}\",{\"id\":\"p1349\"},{\"id\":\"p1347\"},{\"id\":\"p1348\"}],\"margin\":0,\"sizing_mode\":\"stretch_width\",\"align\":\"start\"}}]}}],\"callbacks\":{\"type\":\"map\"}}};\n",
       "  var render_items = [{\"docid\":\"5b2b1e0b-fe83-4e57-9b1b-4293db0b45a5\",\"roots\":{\"p1346\":\"d58a84dd-c635-4b44-8596-1e90cea30b61\"},\"root_ids\":[\"p1346\"]}];\n",
       "  var docs = Object.values(docs_json)\n",
       "  if (!docs) {\n",
       "    return\n",
       "  }\n",
       "  const py_version = docs[0].version.replace('rc', '-rc.')\n",
       "  const is_dev = py_version.indexOf(\"+\") !== -1 || py_version.indexOf(\"-\") !== -1\n",
       "  function embed_document(root) {\n",
       "    var Bokeh = get_bokeh(root)\n",
       "    Bokeh.embed.embed_items_notebook(docs_json, render_items);\n",
       "    for (const render_item of render_items) {\n",
       "      for (const root_id of render_item.root_ids) {\n",
       "\tconst id_el = document.getElementById(root_id)\n",
       "\tif (id_el.children.length && (id_el.children[0].className === 'bk-root')) {\n",
       "\t  const root_el = id_el.children[0]\n",
       "\t  root_el.id = root_el.id + '-rendered'\n",
       "\t}\n",
       "      }\n",
       "    }\n",
       "  }\n",
       "  function get_bokeh(root) {\n",
       "    if (root.Bokeh === undefined) {\n",
       "      return null\n",
       "    } else if (root.Bokeh.version !== py_version && !is_dev) {\n",
       "      if (root.Bokeh.versions === undefined || !root.Bokeh.versions.has(py_version)) {\n",
       "\treturn null\n",
       "      }\n",
       "      return root.Bokeh.versions.get(py_version);\n",
       "    } else if (root.Bokeh.version === py_version) {\n",
       "      return root.Bokeh\n",
       "    }\n",
       "    return null\n",
       "  }\n",
       "  function is_loaded(root) {\n",
       "    var Bokeh = get_bokeh(root)\n",
       "    return (Bokeh != null && Bokeh.Panel !== undefined)\n",
       "  }\n",
       "  if (is_loaded(root)) {\n",
       "    embed_document(root);\n",
       "  } else {\n",
       "    var attempts = 0;\n",
       "    var timer = setInterval(function(root) {\n",
       "      if (is_loaded(root)) {\n",
       "        clearInterval(timer);\n",
       "        embed_document(root);\n",
       "      } else if (document.readyState == \"complete\") {\n",
       "        attempts++;\n",
       "        if (attempts > 200) {\n",
       "          clearInterval(timer);\n",
       "\t  var Bokeh = get_bokeh(root)\n",
       "\t  if (Bokeh == null || Bokeh.Panel == null) {\n",
       "            console.warn(\"Panel: ERROR: Unable to run Panel code because Bokeh or Panel library is missing\");\n",
       "\t  } else {\n",
       "\t    console.warn(\"Panel: WARNING: Attempting to render but not all required libraries could be resolved.\")\n",
       "\t    embed_document(root)\n",
       "\t  }\n",
       "        }\n",
       "      }\n",
       "    }, 25, root)\n",
       "  }\n",
       "})(window);</script>"
      ],
      "text/plain": [
       ":Overlay\n",
       "   .WMTS.I   :WMTS   [Longitude,Latitude]\n",
       "   .Points.I :Points   [Lng,Lat]   (City,Humidity)"
      ]
     },
     "execution_count": 60,
     "metadata": {
      "application/vnd.holoviews_exec.v0+json": {
       "id": "p1346"
      }
     },
     "output_type": "execute_result"
    }
   ],
   "source": [
    "%%capture --no-display\n",
    "\n",
    "# Configure the map plot\n",
    "humidity_plot = city_data_df.hvplot.points(\n",
    "    'Lng',\n",
    "    'Lat',\n",
    "    size='Humidity',\n",
    "    scale = 1,\n",
    "    geo = True,\n",
    "    tiles ='OSM',\n",
    "    frame_width = 600,\n",
    "    frame_height = 400,\n",
    "    color = 'City'\n",
    ")\n",
    "\n",
    "# Display the map\n",
    "humidity_plot"
   ]
  },
  {
   "cell_type": "markdown",
   "metadata": {},
   "source": [
    "### Step 2: Narrow down the `city_data_df` DataFrame to find your ideal weather condition"
   ]
  },
  {
   "cell_type": "code",
   "execution_count": 61,
   "metadata": {},
   "outputs": [
    {
     "data": {
      "text/html": [
       "<div>\n",
       "<style scoped>\n",
       "    .dataframe tbody tr th:only-of-type {\n",
       "        vertical-align: middle;\n",
       "    }\n",
       "\n",
       "    .dataframe tbody tr th {\n",
       "        vertical-align: top;\n",
       "    }\n",
       "\n",
       "    .dataframe thead th {\n",
       "        text-align: right;\n",
       "    }\n",
       "</style>\n",
       "<table border=\"1\" class=\"dataframe\">\n",
       "  <thead>\n",
       "    <tr style=\"text-align: right;\">\n",
       "      <th></th>\n",
       "      <th>Unnamed: 0</th>\n",
       "      <th>City</th>\n",
       "      <th>Lat</th>\n",
       "      <th>Lng</th>\n",
       "      <th>Max Temp</th>\n",
       "      <th>Humidity</th>\n",
       "      <th>Cloudiness</th>\n",
       "      <th>Wind Speed</th>\n",
       "      <th>Country</th>\n",
       "      <th>Date</th>\n",
       "    </tr>\n",
       "  </thead>\n",
       "  <tbody>\n",
       "  </tbody>\n",
       "</table>\n",
       "</div>"
      ],
      "text/plain": [
       "Empty DataFrame\n",
       "Columns: [Unnamed: 0, City, Lat, Lng, Max Temp, Humidity, Cloudiness, Wind Speed, Country, Date]\n",
       "Index: []"
      ]
     },
     "execution_count": 61,
     "metadata": {},
     "output_type": "execute_result"
    }
   ],
   "source": [
    "# Narrow down cities that fit criteria and drop any results with null values\n",
    "ideal_weather = city_data_df[\n",
    "    (city_data_df['Max Temp'] < 30) &\n",
    "    (city_data_df['Max Temp'] > 16) &\n",
    "    (city_data_df['Humidity'] < 50) &\n",
    "    (city_data_df['Wind Speed'] < 4) &\n",
    "    (city_data_df['Cloudiness'] < 50)\n",
    "    ]\n",
    "\n",
    "\n",
    "# Drop any rows with null values\n",
    "ideal_weather.dropna()\n",
    "\n",
    "# Display sample data\n",
    "ideal_weather.head()"
   ]
  },
  {
   "cell_type": "markdown",
   "metadata": {},
   "source": [
    "### Step 3: Create a new DataFrame called `hotel_df`."
   ]
  },
  {
   "cell_type": "code",
   "execution_count": 62,
   "metadata": {},
   "outputs": [
    {
     "data": {
      "text/html": [
       "<div>\n",
       "<style scoped>\n",
       "    .dataframe tbody tr th:only-of-type {\n",
       "        vertical-align: middle;\n",
       "    }\n",
       "\n",
       "    .dataframe tbody tr th {\n",
       "        vertical-align: top;\n",
       "    }\n",
       "\n",
       "    .dataframe thead th {\n",
       "        text-align: right;\n",
       "    }\n",
       "</style>\n",
       "<table border=\"1\" class=\"dataframe\">\n",
       "  <thead>\n",
       "    <tr style=\"text-align: right;\">\n",
       "      <th></th>\n",
       "      <th>City</th>\n",
       "      <th>Country</th>\n",
       "      <th>Lat</th>\n",
       "      <th>Lng</th>\n",
       "      <th>Humidity</th>\n",
       "      <th>Hotel Name</th>\n",
       "    </tr>\n",
       "  </thead>\n",
       "  <tbody>\n",
       "  </tbody>\n",
       "</table>\n",
       "</div>"
      ],
      "text/plain": [
       "Empty DataFrame\n",
       "Columns: [City, Country, Lat, Lng, Humidity, Hotel Name]\n",
       "Index: []"
      ]
     },
     "execution_count": 62,
     "metadata": {},
     "output_type": "execute_result"
    }
   ],
   "source": [
    "# Use the Pandas copy function to create DataFrame called hotel_df to store the city, country, coordinates, and humidity\n",
    "hotel_df = ideal_weather[['City', 'Country', 'Lat', 'Lng', 'Humidity']]\n",
    "\n",
    "# Add an empty column, \"Hotel Name,\" to the DataFrame so you can store the hotel found using the Geoapify API\n",
    "hotel_df['Hotel Name']=''\n",
    "\n",
    "# Display sample data\n",
    "hotel_df.head()"
   ]
  },
  {
   "cell_type": "markdown",
   "metadata": {},
   "source": [
    "### Step 4: For each city, use the Geoapify API to find the first hotel located within 10,000 metres of your coordinates."
   ]
  },
  {
   "cell_type": "code",
   "execution_count": 63,
   "metadata": {},
   "outputs": [
    {
     "name": "stdout",
     "output_type": "stream",
     "text": [
      "Starting hotel search\n"
     ]
    },
    {
     "data": {
      "text/html": [
       "<div>\n",
       "<style scoped>\n",
       "    .dataframe tbody tr th:only-of-type {\n",
       "        vertical-align: middle;\n",
       "    }\n",
       "\n",
       "    .dataframe tbody tr th {\n",
       "        vertical-align: top;\n",
       "    }\n",
       "\n",
       "    .dataframe thead th {\n",
       "        text-align: right;\n",
       "    }\n",
       "</style>\n",
       "<table border=\"1\" class=\"dataframe\">\n",
       "  <thead>\n",
       "    <tr style=\"text-align: right;\">\n",
       "      <th></th>\n",
       "      <th>City</th>\n",
       "      <th>Country</th>\n",
       "      <th>Lat</th>\n",
       "      <th>Lng</th>\n",
       "      <th>Humidity</th>\n",
       "      <th>Hotel Name</th>\n",
       "    </tr>\n",
       "  </thead>\n",
       "  <tbody>\n",
       "  </tbody>\n",
       "</table>\n",
       "</div>"
      ],
      "text/plain": [
       "Empty DataFrame\n",
       "Columns: [City, Country, Lat, Lng, Humidity, Hotel Name]\n",
       "Index: []"
      ]
     },
     "execution_count": 63,
     "metadata": {},
     "output_type": "execute_result"
    }
   ],
   "source": [
    "# Set parameters to search for a hotel\n",
    "radius = 10000\n",
    "params = {\n",
    "        \"apiKey\":geoapify_key,\n",
    "    \"format\":\"json\",\n",
    "    'limit':20,\n",
    "    'categories':'accommodation.hotel'\n",
    "}\n",
    "\n",
    "# Print a message to follow up the hotel search\n",
    "print(\"Starting hotel search\")\n",
    "\n",
    "# Iterate through the hotel_df DataFrame\n",
    "for index, row in hotel_df.iterrows():\n",
    "    # get latitude, longitude from the DataFrame\n",
    "    lat = row['Lat']\n",
    "    lon = row['Lng']\n",
    "    \n",
    "    # Add filter and bias parameters with the current city's latitude and longitude to the params dictionary\n",
    "    params[\"filter\"] = f'circle:{lon},{lat},{radius}'\n",
    "    params[\"bias\"] = f'proximity:{lon},{lat}'\n",
    "    \n",
    "    # Set base URL\n",
    "    base_url = \"https://api.geoapify.com/v2/places\"\n",
    "\n",
    "\n",
    "    # Make and API request using the params dictionaty\n",
    "    name_address = requests.get(base_url, params=params)\n",
    "    \n",
    "    # Convert the API response to JSON format\n",
    "    name_address = name_address.json()\n",
    "    \n",
    "    # Grab the first hotel from the results and store the name in the hotel_df DataFrame\n",
    "    try:\n",
    "        hotel_df.loc[index, \"Hotel Name\"] = name_address[\"features\"][0][\"properties\"][\"name\"]\n",
    "    except (KeyError, IndexError):\n",
    "        # If no hotel is found, set the hotel name as \"No hotel found\".\n",
    "        hotel_df.loc[index, \"Hotel Name\"] = \"No hotel found\"\n",
    "        \n",
    "    # Log the search results\n",
    "    print(f\"{hotel_df.loc[index, 'City']} - nearest hotel: {hotel_df.loc[index, 'Hotel Name']}\")\n",
    "\n",
    "\n",
    "# Display sample data\n",
    "hotel_df"
   ]
  },
  {
   "cell_type": "markdown",
   "metadata": {},
   "source": [
    "### Step 5: Add the hotel name and the country as additional information in the hover message for each city in the map."
   ]
  },
  {
   "cell_type": "code",
   "execution_count": 64,
   "metadata": {},
   "outputs": [
    {
     "data": {},
     "metadata": {},
     "output_type": "display_data"
    },
    {
     "data": {
      "application/vnd.holoviews_exec.v0+json": "",
      "text/html": [
       "<div id='p1519'>\n",
       "  <div id=\"aa8bdde4-999a-41dd-bd71-c53c3b0f41c4\" data-root-id=\"p1519\" style=\"display: contents;\"></div>\n",
       "</div>\n",
       "<script type=\"application/javascript\">(function(root) {\n",
       "  var docs_json = {\"099f8ac7-c7db-458b-a258-1b429fefb725\":{\"version\":\"3.1.1\",\"title\":\"Bokeh Application\",\"defs\":[{\"type\":\"model\",\"name\":\"ReactiveHTML1\"},{\"type\":\"model\",\"name\":\"FlexBox1\",\"properties\":[{\"name\":\"align_content\",\"kind\":\"Any\",\"default\":\"flex-start\"},{\"name\":\"align_items\",\"kind\":\"Any\",\"default\":\"flex-start\"},{\"name\":\"flex_direction\",\"kind\":\"Any\",\"default\":\"row\"},{\"name\":\"flex_wrap\",\"kind\":\"Any\",\"default\":\"wrap\"},{\"name\":\"justify_content\",\"kind\":\"Any\",\"default\":\"flex-start\"}]},{\"type\":\"model\",\"name\":\"FloatPanel1\",\"properties\":[{\"name\":\"config\",\"kind\":\"Any\",\"default\":{\"type\":\"map\"}},{\"name\":\"contained\",\"kind\":\"Any\",\"default\":true},{\"name\":\"position\",\"kind\":\"Any\",\"default\":\"right-top\"},{\"name\":\"offsetx\",\"kind\":\"Any\",\"default\":null},{\"name\":\"offsety\",\"kind\":\"Any\",\"default\":null},{\"name\":\"theme\",\"kind\":\"Any\",\"default\":\"primary\"},{\"name\":\"status\",\"kind\":\"Any\",\"default\":\"normalized\"}]},{\"type\":\"model\",\"name\":\"GridStack1\",\"properties\":[{\"name\":\"mode\",\"kind\":\"Any\",\"default\":\"warn\"},{\"name\":\"ncols\",\"kind\":\"Any\",\"default\":null},{\"name\":\"nrows\",\"kind\":\"Any\",\"default\":null},{\"name\":\"allow_resize\",\"kind\":\"Any\",\"default\":true},{\"name\":\"allow_drag\",\"kind\":\"Any\",\"default\":true},{\"name\":\"state\",\"kind\":\"Any\",\"default\":[]}]},{\"type\":\"model\",\"name\":\"drag1\",\"properties\":[{\"name\":\"slider_width\",\"kind\":\"Any\",\"default\":5},{\"name\":\"slider_color\",\"kind\":\"Any\",\"default\":\"black\"},{\"name\":\"value\",\"kind\":\"Any\",\"default\":50}]},{\"type\":\"model\",\"name\":\"click1\",\"properties\":[{\"name\":\"terminal_output\",\"kind\":\"Any\",\"default\":\"\"},{\"name\":\"debug_name\",\"kind\":\"Any\",\"default\":\"\"},{\"name\":\"clears\",\"kind\":\"Any\",\"default\":0}]},{\"type\":\"model\",\"name\":\"FastWrapper1\",\"properties\":[{\"name\":\"object\",\"kind\":\"Any\",\"default\":null},{\"name\":\"style\",\"kind\":\"Any\",\"default\":null}]},{\"type\":\"model\",\"name\":\"NotificationAreaBase1\",\"properties\":[{\"name\":\"position\",\"kind\":\"Any\",\"default\":\"bottom-right\"},{\"name\":\"_clear\",\"kind\":\"Any\",\"default\":0}]},{\"type\":\"model\",\"name\":\"NotificationArea1\",\"properties\":[{\"name\":\"notifications\",\"kind\":\"Any\",\"default\":[]},{\"name\":\"position\",\"kind\":\"Any\",\"default\":\"bottom-right\"},{\"name\":\"_clear\",\"kind\":\"Any\",\"default\":0},{\"name\":\"types\",\"kind\":\"Any\",\"default\":[{\"type\":\"map\",\"entries\":[[\"type\",\"warning\"],[\"background\",\"#ffc107\"],[\"icon\",{\"type\":\"map\",\"entries\":[[\"className\",\"fas fa-exclamation-triangle\"],[\"tagName\",\"i\"],[\"color\",\"white\"]]}]]},{\"type\":\"map\",\"entries\":[[\"type\",\"info\"],[\"background\",\"#007bff\"],[\"icon\",{\"type\":\"map\",\"entries\":[[\"className\",\"fas fa-info-circle\"],[\"tagName\",\"i\"],[\"color\",\"white\"]]}]]}]}]},{\"type\":\"model\",\"name\":\"Notification\",\"properties\":[{\"name\":\"background\",\"kind\":\"Any\",\"default\":null},{\"name\":\"duration\",\"kind\":\"Any\",\"default\":3000},{\"name\":\"icon\",\"kind\":\"Any\",\"default\":null},{\"name\":\"message\",\"kind\":\"Any\",\"default\":\"\"},{\"name\":\"notification_type\",\"kind\":\"Any\",\"default\":null},{\"name\":\"_destroyed\",\"kind\":\"Any\",\"default\":false}]},{\"type\":\"model\",\"name\":\"TemplateActions1\",\"properties\":[{\"name\":\"open_modal\",\"kind\":\"Any\",\"default\":0},{\"name\":\"close_modal\",\"kind\":\"Any\",\"default\":0}]},{\"type\":\"model\",\"name\":\"BootstrapTemplateActions1\",\"properties\":[{\"name\":\"open_modal\",\"kind\":\"Any\",\"default\":0},{\"name\":\"close_modal\",\"kind\":\"Any\",\"default\":0}]},{\"type\":\"model\",\"name\":\"MaterialTemplateActions1\",\"properties\":[{\"name\":\"open_modal\",\"kind\":\"Any\",\"default\":0},{\"name\":\"close_modal\",\"kind\":\"Any\",\"default\":0}]}],\"roots\":[{\"type\":\"object\",\"name\":\"Row\",\"id\":\"p1519\",\"attributes\":{\"name\":\"Row02030\",\"tags\":[\"embedded\"],\"stylesheets\":[\"\\n:host(.pn-loading.pn-arc):before, .pn-loading.pn-arc:before {\\n  background-image: url(\\\"data:image/svg+xml;base64,PHN2ZyB4bWxucz0iaHR0cDovL3d3dy53My5vcmcvMjAwMC9zdmciIHN0eWxlPSJtYXJnaW46IGF1dG87IGJhY2tncm91bmQ6IG5vbmU7IGRpc3BsYXk6IGJsb2NrOyBzaGFwZS1yZW5kZXJpbmc6IGF1dG87IiB2aWV3Qm94PSIwIDAgMTAwIDEwMCIgcHJlc2VydmVBc3BlY3RSYXRpbz0ieE1pZFlNaWQiPiAgPGNpcmNsZSBjeD0iNTAiIGN5PSI1MCIgZmlsbD0ibm9uZSIgc3Ryb2tlPSIjYzNjM2MzIiBzdHJva2Utd2lkdGg9IjEwIiByPSIzNSIgc3Ryb2tlLWRhc2hhcnJheT0iMTY0LjkzMzYxNDMxMzQ2NDE1IDU2Ljk3Nzg3MTQzNzgyMTM4Ij4gICAgPGFuaW1hdGVUcmFuc2Zvcm0gYXR0cmlidXRlTmFtZT0idHJhbnNmb3JtIiB0eXBlPSJyb3RhdGUiIHJlcGVhdENvdW50PSJpbmRlZmluaXRlIiBkdXI9IjFzIiB2YWx1ZXM9IjAgNTAgNTA7MzYwIDUwIDUwIiBrZXlUaW1lcz0iMDsxIj48L2FuaW1hdGVUcmFuc2Zvcm0+ICA8L2NpcmNsZT48L3N2Zz4=\\\");\\n  background-size: auto calc(min(50%, 400px));\\n}\",{\"type\":\"object\",\"name\":\"ImportedStyleSheet\",\"id\":\"p1522\",\"attributes\":{\"url\":\"https://cdn.holoviz.org/panel/1.1.0/dist/css/loading.css\"}},{\"type\":\"object\",\"name\":\"ImportedStyleSheet\",\"id\":\"p1651\",\"attributes\":{\"url\":\"https://cdn.holoviz.org/panel/1.1.0/dist/css/listpanel.css\"}},{\"type\":\"object\",\"name\":\"ImportedStyleSheet\",\"id\":\"p1520\",\"attributes\":{\"url\":\"https://cdn.holoviz.org/panel/1.1.0/dist/bundled/theme/default.css\"}},{\"type\":\"object\",\"name\":\"ImportedStyleSheet\",\"id\":\"p1521\",\"attributes\":{\"url\":\"https://cdn.holoviz.org/panel/1.1.0/dist/bundled/theme/native.css\"}}],\"margin\":0,\"sizing_mode\":\"stretch_width\",\"align\":\"start\",\"children\":[{\"type\":\"object\",\"name\":\"Spacer\",\"id\":\"p1523\",\"attributes\":{\"name\":\"HSpacer02040\",\"stylesheets\":[\"\\n:host(.pn-loading.pn-arc):before, .pn-loading.pn-arc:before {\\n  background-image: url(\\\"data:image/svg+xml;base64,PHN2ZyB4bWxucz0iaHR0cDovL3d3dy53My5vcmcvMjAwMC9zdmciIHN0eWxlPSJtYXJnaW46IGF1dG87IGJhY2tncm91bmQ6IG5vbmU7IGRpc3BsYXk6IGJsb2NrOyBzaGFwZS1yZW5kZXJpbmc6IGF1dG87IiB2aWV3Qm94PSIwIDAgMTAwIDEwMCIgcHJlc2VydmVBc3BlY3RSYXRpbz0ieE1pZFlNaWQiPiAgPGNpcmNsZSBjeD0iNTAiIGN5PSI1MCIgZmlsbD0ibm9uZSIgc3Ryb2tlPSIjYzNjM2MzIiBzdHJva2Utd2lkdGg9IjEwIiByPSIzNSIgc3Ryb2tlLWRhc2hhcnJheT0iMTY0LjkzMzYxNDMxMzQ2NDE1IDU2Ljk3Nzg3MTQzNzgyMTM4Ij4gICAgPGFuaW1hdGVUcmFuc2Zvcm0gYXR0cmlidXRlTmFtZT0idHJhbnNmb3JtIiB0eXBlPSJyb3RhdGUiIHJlcGVhdENvdW50PSJpbmRlZmluaXRlIiBkdXI9IjFzIiB2YWx1ZXM9IjAgNTAgNTA7MzYwIDUwIDUwIiBrZXlUaW1lcz0iMDsxIj48L2FuaW1hdGVUcmFuc2Zvcm0+ICA8L2NpcmNsZT48L3N2Zz4=\\\");\\n  background-size: auto calc(min(50%, 400px));\\n}\",{\"id\":\"p1522\"},{\"id\":\"p1520\"},{\"id\":\"p1521\"}],\"margin\":0,\"sizing_mode\":\"stretch_width\",\"align\":\"start\"}},{\"type\":\"object\",\"name\":\"Figure\",\"id\":\"p1544\",\"attributes\":{\"width\":null,\"height\":null,\"margin\":[5,10],\"sizing_mode\":\"fixed\",\"align\":\"start\",\"x_range\":{\"type\":\"object\",\"name\":\"Range1d\",\"id\":\"p1533\",\"attributes\":{\"tags\":[[[\"Longitude\",\"Longitude\",null]]],\"start\":3.0,\"min_interval\":5}},\"y_range\":{\"type\":\"object\",\"name\":\"Range1d\",\"id\":\"p1534\",\"attributes\":{\"tags\":[[[\"Latitude\",\"Latitude\",null]]],\"start\":3.0,\"min_interval\":5}},\"x_scale\":{\"type\":\"object\",\"name\":\"LinearScale\",\"id\":\"p1556\"},\"y_scale\":{\"type\":\"object\",\"name\":\"LinearScale\",\"id\":\"p1558\"},\"title\":{\"type\":\"object\",\"name\":\"Title\",\"id\":\"p1547\",\"attributes\":{\"text_color\":\"black\",\"text_font_size\":\"12pt\"}},\"renderers\":[{\"type\":\"object\",\"name\":\"TileRenderer\",\"id\":\"p1613\",\"attributes\":{\"level\":\"underlay\",\"tile_source\":{\"type\":\"object\",\"name\":\"WMTSTileSource\",\"id\":\"p1608\",\"attributes\":{\"url\":\"https://c.tile.openstreetmap.org/{Z}/{X}/{Y}.png\",\"attribution\":\"&copy; <a href=\\\"https://www.openstreetmap.org/copyright\\\">OpenStreetMap</a> contributors\"}}}},{\"type\":\"object\",\"name\":\"GlyphRenderer\",\"id\":\"p1632\",\"attributes\":{\"data_source\":{\"type\":\"object\",\"name\":\"ColumnDataSource\",\"id\":\"p1620\",\"attributes\":{\"selected\":{\"type\":\"object\",\"name\":\"Selection\",\"id\":\"p1621\",\"attributes\":{\"indices\":[],\"line_indices\":[]}},\"selection_policy\":{\"type\":\"object\",\"name\":\"UnionRenderers\",\"id\":\"p1622\"},\"data\":{\"type\":\"map\",\"entries\":[[\"Lng\",{\"type\":\"ndarray\",\"array\":{\"type\":\"bytes\",\"data\":\"\"},\"shape\":[0],\"dtype\":\"float64\",\"order\":\"little\"}],[\"Lat\",{\"type\":\"ndarray\",\"array\":{\"type\":\"bytes\",\"data\":\"\"},\"shape\":[0],\"dtype\":\"float64\",\"order\":\"little\"}],[\"Hotel_Name\",{\"type\":\"ndarray\",\"array\":[],\"shape\":[0],\"dtype\":\"object\",\"order\":\"little\"}],[\"City\",{\"type\":\"ndarray\",\"array\":[],\"shape\":[0],\"dtype\":\"object\",\"order\":\"little\"}],[\"Country\",{\"type\":\"ndarray\",\"array\":[],\"shape\":[0],\"dtype\":\"object\",\"order\":\"little\"}],[\"color\",{\"type\":\"ndarray\",\"array\":[],\"shape\":[0],\"dtype\":\"object\",\"order\":\"little\"}]]}}},\"view\":{\"type\":\"object\",\"name\":\"CDSView\",\"id\":\"p1633\",\"attributes\":{\"filter\":{\"type\":\"object\",\"name\":\"AllIndices\",\"id\":\"p1634\"}}},\"glyph\":{\"type\":\"object\",\"name\":\"Scatter\",\"id\":\"p1627\",\"attributes\":{\"tags\":[\"apply_ranges\"],\"x\":{\"type\":\"field\",\"field\":\"Lng\"},\"y\":{\"type\":\"field\",\"field\":\"Lat\"},\"size\":{\"type\":\"value\",\"value\":5.477225575051661},\"line_color\":{\"type\":\"field\",\"field\":\"color\"},\"fill_color\":{\"type\":\"field\",\"field\":\"color\"},\"hatch_color\":{\"type\":\"field\",\"field\":\"color\"}}},\"selection_glyph\":{\"type\":\"object\",\"name\":\"Scatter\",\"id\":\"p1629\",\"attributes\":{\"tags\":[\"apply_ranges\"],\"x\":{\"type\":\"field\",\"field\":\"Lng\"},\"y\":{\"type\":\"field\",\"field\":\"Lat\"},\"size\":{\"type\":\"value\",\"value\":5.477225575051661},\"line_color\":{\"type\":\"field\",\"field\":\"color\"},\"fill_color\":{\"type\":\"field\",\"field\":\"color\"},\"hatch_color\":{\"type\":\"field\",\"field\":\"color\"}}},\"nonselection_glyph\":{\"type\":\"object\",\"name\":\"Scatter\",\"id\":\"p1628\",\"attributes\":{\"tags\":[\"apply_ranges\"],\"x\":{\"type\":\"field\",\"field\":\"Lng\"},\"y\":{\"type\":\"field\",\"field\":\"Lat\"},\"size\":{\"type\":\"value\",\"value\":5.477225575051661},\"line_color\":{\"type\":\"field\",\"field\":\"color\"},\"line_alpha\":{\"type\":\"value\",\"value\":0.1},\"fill_color\":{\"type\":\"field\",\"field\":\"color\"},\"fill_alpha\":{\"type\":\"value\",\"value\":0.1},\"hatch_color\":{\"type\":\"field\",\"field\":\"color\"},\"hatch_alpha\":{\"type\":\"value\",\"value\":0.1}}},\"hover_glyph\":{\"type\":\"object\",\"name\":\"Scatter\",\"id\":\"p1630\",\"attributes\":{\"tags\":[\"apply_ranges\"],\"x\":{\"type\":\"field\",\"field\":\"Lng\"},\"y\":{\"type\":\"field\",\"field\":\"Lat\"},\"size\":{\"type\":\"value\",\"value\":5.477225575051661},\"line_color\":{\"type\":\"field\",\"field\":\"color\"},\"fill_color\":{\"type\":\"field\",\"field\":\"color\"},\"hatch_color\":{\"type\":\"field\",\"field\":\"color\"}}},\"muted_glyph\":{\"type\":\"object\",\"name\":\"Scatter\",\"id\":\"p1631\",\"attributes\":{\"tags\":[\"apply_ranges\"],\"x\":{\"type\":\"field\",\"field\":\"Lng\"},\"y\":{\"type\":\"field\",\"field\":\"Lat\"},\"size\":{\"type\":\"value\",\"value\":5.477225575051661},\"line_color\":{\"type\":\"field\",\"field\":\"color\"},\"line_alpha\":{\"type\":\"value\",\"value\":0.2},\"fill_color\":{\"type\":\"field\",\"field\":\"color\"},\"fill_alpha\":{\"type\":\"value\",\"value\":0.2},\"hatch_color\":{\"type\":\"field\",\"field\":\"color\"},\"hatch_alpha\":{\"type\":\"value\",\"value\":0.2}}}}}],\"toolbar\":{\"type\":\"object\",\"name\":\"Toolbar\",\"id\":\"p1550\",\"attributes\":{\"tools\":[{\"type\":\"object\",\"name\":\"WheelZoomTool\",\"id\":\"p1535\",\"attributes\":{\"zoom_on_axis\":false}},{\"type\":\"object\",\"name\":\"BoxZoomTool\",\"id\":\"p1537\",\"attributes\":{\"overlay\":{\"type\":\"object\",\"name\":\"BoxAnnotation\",\"id\":\"p1004\",\"attributes\":{\"syncable\":false,\"level\":\"overlay\",\"visible\":false,\"left_units\":\"canvas\",\"right_units\":\"canvas\",\"bottom_units\":\"canvas\",\"top_units\":\"canvas\",\"line_color\":\"black\",\"line_alpha\":1.0,\"line_width\":2,\"line_dash\":[4,4],\"fill_color\":\"lightgrey\",\"fill_alpha\":0.5}},\"match_aspect\":true}},{\"type\":\"object\",\"name\":\"HoverTool\",\"id\":\"p1543\",\"attributes\":{\"tags\":[\"hv_created\"],\"renderers\":[{\"id\":\"p1632\"}],\"tooltips\":[[\"Lng\",\"$x{custom}\"],[\"Lat\",\"$y{custom}\"],[\"Hotel Name\",\"@{Hotel_Name}\"],[\"City\",\"@{City}\"],[\"Country\",\"@{Country}\"]],\"formatters\":{\"type\":\"map\",\"entries\":[[\"$x\",{\"type\":\"object\",\"name\":\"CustomJSHover\",\"id\":\"p1636\",\"attributes\":{\"code\":\"\\n        const projections = Bokeh.require(\\\"core/util/projections\\\");\\n        const {snap_x, snap_y} = special_vars\\n        const coords = projections.wgs84_mercator.invert(snap_x, snap_y)\\n        return \\\"\\\" + (coords[0]).toFixed(4)\\n    \"}}],[\"$y\",{\"type\":\"object\",\"name\":\"CustomJSHover\",\"id\":\"p1637\",\"attributes\":{\"code\":\"\\n        const projections = Bokeh.require(\\\"core/util/projections\\\");\\n        const {snap_x, snap_y} = special_vars\\n        const coords = projections.wgs84_mercator.invert(snap_x, snap_y)\\n        return \\\"\\\" + (coords[1]).toFixed(4)\\n    \"}}]]}}},{\"type\":\"object\",\"name\":\"PanTool\",\"id\":\"p1575\"},{\"type\":\"object\",\"name\":\"ResetTool\",\"id\":\"p1576\"}],\"active_drag\":{\"id\":\"p1575\"}}},\"left\":[{\"type\":\"object\",\"name\":\"LinearAxis\",\"id\":\"p1567\",\"attributes\":{\"ticker\":{\"type\":\"object\",\"name\":\"MercatorTicker\",\"id\":\"p1586\",\"attributes\":{\"mantissas\":[1,2,5],\"dimension\":\"lat\"}},\"formatter\":{\"type\":\"object\",\"name\":\"MercatorTickFormatter\",\"id\":\"p1587\",\"attributes\":{\"dimension\":\"lat\"}},\"axis_label\":\"Latitude\",\"major_label_policy\":{\"type\":\"object\",\"name\":\"AllLabels\",\"id\":\"p1570\"}}}],\"below\":[{\"type\":\"object\",\"name\":\"LinearAxis\",\"id\":\"p1560\",\"attributes\":{\"ticker\":{\"type\":\"object\",\"name\":\"MercatorTicker\",\"id\":\"p1584\",\"attributes\":{\"mantissas\":[1,2,5],\"dimension\":\"lon\"}},\"formatter\":{\"type\":\"object\",\"name\":\"MercatorTickFormatter\",\"id\":\"p1585\",\"attributes\":{\"dimension\":\"lon\"}},\"axis_label\":\"Longitude\",\"major_label_policy\":{\"type\":\"object\",\"name\":\"AllLabels\",\"id\":\"p1563\"}}}],\"center\":[{\"type\":\"object\",\"name\":\"Grid\",\"id\":\"p1566\",\"attributes\":{\"axis\":{\"id\":\"p1560\"},\"grid_line_color\":null}},{\"type\":\"object\",\"name\":\"Grid\",\"id\":\"p1573\",\"attributes\":{\"dimension\":1,\"axis\":{\"id\":\"p1567\"},\"grid_line_color\":null}}],\"frame_width\":400,\"frame_height\":300,\"min_border_top\":10,\"min_border_bottom\":10,\"min_border_left\":10,\"min_border_right\":10,\"output_backend\":\"webgl\",\"match_aspect\":true}},{\"type\":\"object\",\"name\":\"Spacer\",\"id\":\"p1649\",\"attributes\":{\"name\":\"HSpacer02043\",\"stylesheets\":[\"\\n:host(.pn-loading.pn-arc):before, .pn-loading.pn-arc:before {\\n  background-image: url(\\\"data:image/svg+xml;base64,PHN2ZyB4bWxucz0iaHR0cDovL3d3dy53My5vcmcvMjAwMC9zdmciIHN0eWxlPSJtYXJnaW46IGF1dG87IGJhY2tncm91bmQ6IG5vbmU7IGRpc3BsYXk6IGJsb2NrOyBzaGFwZS1yZW5kZXJpbmc6IGF1dG87IiB2aWV3Qm94PSIwIDAgMTAwIDEwMCIgcHJlc2VydmVBc3BlY3RSYXRpbz0ieE1pZFlNaWQiPiAgPGNpcmNsZSBjeD0iNTAiIGN5PSI1MCIgZmlsbD0ibm9uZSIgc3Ryb2tlPSIjYzNjM2MzIiBzdHJva2Utd2lkdGg9IjEwIiByPSIzNSIgc3Ryb2tlLWRhc2hhcnJheT0iMTY0LjkzMzYxNDMxMzQ2NDE1IDU2Ljk3Nzg3MTQzNzgyMTM4Ij4gICAgPGFuaW1hdGVUcmFuc2Zvcm0gYXR0cmlidXRlTmFtZT0idHJhbnNmb3JtIiB0eXBlPSJyb3RhdGUiIHJlcGVhdENvdW50PSJpbmRlZmluaXRlIiBkdXI9IjFzIiB2YWx1ZXM9IjAgNTAgNTA7MzYwIDUwIDUwIiBrZXlUaW1lcz0iMDsxIj48L2FuaW1hdGVUcmFuc2Zvcm0+ICA8L2NpcmNsZT48L3N2Zz4=\\\");\\n  background-size: auto calc(min(50%, 400px));\\n}\",{\"id\":\"p1522\"},{\"id\":\"p1520\"},{\"id\":\"p1521\"}],\"margin\":0,\"sizing_mode\":\"stretch_width\",\"align\":\"start\"}}]}}],\"callbacks\":{\"type\":\"map\"}}};\n",
       "  var render_items = [{\"docid\":\"099f8ac7-c7db-458b-a258-1b429fefb725\",\"roots\":{\"p1519\":\"aa8bdde4-999a-41dd-bd71-c53c3b0f41c4\"},\"root_ids\":[\"p1519\"]}];\n",
       "  var docs = Object.values(docs_json)\n",
       "  if (!docs) {\n",
       "    return\n",
       "  }\n",
       "  const py_version = docs[0].version.replace('rc', '-rc.')\n",
       "  const is_dev = py_version.indexOf(\"+\") !== -1 || py_version.indexOf(\"-\") !== -1\n",
       "  function embed_document(root) {\n",
       "    var Bokeh = get_bokeh(root)\n",
       "    Bokeh.embed.embed_items_notebook(docs_json, render_items);\n",
       "    for (const render_item of render_items) {\n",
       "      for (const root_id of render_item.root_ids) {\n",
       "\tconst id_el = document.getElementById(root_id)\n",
       "\tif (id_el.children.length && (id_el.children[0].className === 'bk-root')) {\n",
       "\t  const root_el = id_el.children[0]\n",
       "\t  root_el.id = root_el.id + '-rendered'\n",
       "\t}\n",
       "      }\n",
       "    }\n",
       "  }\n",
       "  function get_bokeh(root) {\n",
       "    if (root.Bokeh === undefined) {\n",
       "      return null\n",
       "    } else if (root.Bokeh.version !== py_version && !is_dev) {\n",
       "      if (root.Bokeh.versions === undefined || !root.Bokeh.versions.has(py_version)) {\n",
       "\treturn null\n",
       "      }\n",
       "      return root.Bokeh.versions.get(py_version);\n",
       "    } else if (root.Bokeh.version === py_version) {\n",
       "      return root.Bokeh\n",
       "    }\n",
       "    return null\n",
       "  }\n",
       "  function is_loaded(root) {\n",
       "    var Bokeh = get_bokeh(root)\n",
       "    return (Bokeh != null && Bokeh.Panel !== undefined)\n",
       "  }\n",
       "  if (is_loaded(root)) {\n",
       "    embed_document(root);\n",
       "  } else {\n",
       "    var attempts = 0;\n",
       "    var timer = setInterval(function(root) {\n",
       "      if (is_loaded(root)) {\n",
       "        clearInterval(timer);\n",
       "        embed_document(root);\n",
       "      } else if (document.readyState == \"complete\") {\n",
       "        attempts++;\n",
       "        if (attempts > 200) {\n",
       "          clearInterval(timer);\n",
       "\t  var Bokeh = get_bokeh(root)\n",
       "\t  if (Bokeh == null || Bokeh.Panel == null) {\n",
       "            console.warn(\"Panel: ERROR: Unable to run Panel code because Bokeh or Panel library is missing\");\n",
       "\t  } else {\n",
       "\t    console.warn(\"Panel: WARNING: Attempting to render but not all required libraries could be resolved.\")\n",
       "\t    embed_document(root)\n",
       "\t  }\n",
       "        }\n",
       "      }\n",
       "    }, 25, root)\n",
       "  }\n",
       "})(window);</script>"
      ],
      "text/plain": [
       ":Overlay\n",
       "   .WMTS.I   :WMTS   [Longitude,Latitude]\n",
       "   .Points.I :Points   [Lng,Lat]   (Hotel Name,City,Country)"
      ]
     },
     "execution_count": 64,
     "metadata": {
      "application/vnd.holoviews_exec.v0+json": {
       "id": "p1519"
      }
     },
     "output_type": "execute_result"
    }
   ],
   "source": [
    "%%capture --no-display\n",
    "\n",
    "# Configure the map plot\n",
    "hotel_plot = hotel_df.hvplot.points(\n",
    "    'Lng',\n",
    "    'Lat',\n",
    "    geo = True,\n",
    "    tiles = \"OSM\",\n",
    "    frame_width = 400,\n",
    "    frame_height = 300,\n",
    "    scale = 1,\n",
    "    color = \"Hotel Name\",\n",
    "    hover_cols = ['City', 'Country']\n",
    ")\n",
    "\n",
    "# Display the map\n",
    "hotel_plot"
   ]
  },
  {
   "cell_type": "code",
   "execution_count": null,
   "metadata": {},
   "outputs": [],
   "source": []
  }
 ],
 "metadata": {
  "kernelspec": {
   "display_name": "Python 3 (ipykernel)",
   "language": "python",
   "name": "python3"
  },
  "language_info": {
   "codemirror_mode": {
    "name": "ipython",
    "version": 3
   },
   "file_extension": ".py",
   "mimetype": "text/x-python",
   "name": "python",
   "nbconvert_exporter": "python",
   "pygments_lexer": "ipython3",
   "version": "3.10.12"
  },
  "latex_envs": {
   "LaTeX_envs_menu_present": true,
   "autoclose": false,
   "autocomplete": true,
   "bibliofile": "biblio.bib",
   "cite_by": "apalike",
   "current_citInitial": 1,
   "eqLabelWithNumbers": true,
   "eqNumInitial": 1,
   "hotkeys": {
    "equation": "Ctrl-E",
    "itemize": "Ctrl-I"
   },
   "labels_anchors": false,
   "latex_user_defs": false,
   "report_style_numbering": false,
   "user_envs_cfg": false
  }
 },
 "nbformat": 4,
 "nbformat_minor": 4
}
